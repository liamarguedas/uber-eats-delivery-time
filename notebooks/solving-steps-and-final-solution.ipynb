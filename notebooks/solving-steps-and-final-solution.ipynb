{
 "cells": [
  {
   "cell_type": "markdown",
   "id": "eba8b5ae-4538-407c-9eb3-5e613fe7ea03",
   "metadata": {},
   "source": [
    "# Visualize, report, and present the problem solving steps and final solution.\n",
    "\n",
    "Training a final model version after obtaining the right parameters in a research environment is crucial for reproducibility, performance evaluation, overfitting avoidance, production readiness, and hyperparameter tuning. It ensures that the research findings can be validated by others, evaluates the model's performance on unseen data, mitigates overfitting, prepares the model for real-world deployment, and allows for further optimization. By training a final model, the gap between research and practical application is bridged, ensuring a reliable and effective performance."
   ]
  },
  {
   "cell_type": "markdown",
   "id": "4749d734-819f-4057-ad74-c860ce2faeae",
   "metadata": {},
   "source": [
    "## Libraries"
   ]
  },
  {
   "cell_type": "code",
   "execution_count": 1,
   "id": "cf1feec6-7628-4f58-ab9a-a2717eff446d",
   "metadata": {},
   "outputs": [],
   "source": [
    "# Warnings\n",
    "import warnings\n",
    "warnings.filterwarnings('ignore')\n",
    "\n",
    "# Libraries\n",
    "import numpy as np\n",
    "import pandas as pd\n",
    "import matplotlib.pyplot as plt\n",
    "import seaborn as sns\n",
    "\n",
    "# Settings\n",
    "pd.set_option('display.max_columns', None)\n",
    "sns.set_style('whitegrid')\n",
    "%matplotlib inline"
   ]
  },
  {
   "cell_type": "markdown",
   "id": "2e0b9d72-097d-48bd-b519-b3906a7279b1",
   "metadata": {},
   "source": [
    "## Loading data"
   ]
  },
  {
   "cell_type": "code",
   "execution_count": 2,
   "id": "84d7b674-fa19-4cda-9ff6-476636588466",
   "metadata": {},
   "outputs": [],
   "source": [
    "data = pd.read_csv('../data/training_data.csv')"
   ]
  },
  {
   "cell_type": "markdown",
   "id": "a964acf9-30cd-49a2-baae-b76083495dbd",
   "metadata": {},
   "source": [
    "# Creating Sequential Keras Neural Network\n",
    "\n",
    "A Sequential Keras Neural Network is a feedforward neural network that consists of input, hidden, and output layers. Neurons within each layer perform computations by transforming inputs with weights and biases, and passing the results through activation functions like sigmoid or ReLU. Training the network involves backpropagation, where the gradients of the loss function with respect to weights and biases are computed and used to update the parameters. The loss function quantifies the difference between predicted and actual values, and an optimization algorithm like stochastic gradient descent adjusts the parameters to minimize the loss. This iterative process enables the network to learn and make accurate predictions by capturing complex patterns in the data."
   ]
  },
  {
   "cell_type": "code",
   "execution_count": 6,
   "id": "0797c895-df04-467d-a700-5293a60b97b1",
   "metadata": {},
   "outputs": [],
   "source": [
    "from keras.models import Sequential\n",
    "from keras.layers import Dense, LSTM\n",
    "from tensorflow.keras.optimizers import Adam\n",
    "import os\n",
    "\n",
    "os.environ['TF_CPP_MIN_LOG_LEVEL'] = '2'"
   ]
  },
  {
   "cell_type": "markdown",
   "id": "fa725996-f304-43ad-8b07-81db6b372d73",
   "metadata": {},
   "source": [
    "## X, y"
   ]
  },
  {
   "cell_type": "code",
   "execution_count": 10,
   "id": "6291c69c-de21-4fa1-8095-627b9ddd78a0",
   "metadata": {},
   "outputs": [],
   "source": [
    "X = data.drop('Time_taken(min)', axis = 1)\n",
    "y = data['Time_taken(min)']"
   ]
  },
  {
   "cell_type": "markdown",
   "id": "7473c66d-1ba9-4f3c-a551-6b76c0d06112",
   "metadata": {},
   "source": [
    "## Scaling data and saving parameters"
   ]
  },
  {
   "cell_type": "code",
   "execution_count": 11,
   "id": "e336393b-dc14-4122-887b-c1b7a7fa7c35",
   "metadata": {},
   "outputs": [],
   "source": [
    "from sklearn.preprocessing import MinMaxScaler\n",
    "\n",
    "scaler = MinMaxScaler()\n",
    "\n",
    "FittedScaler = scaler.fit(X)"
   ]
  },
  {
   "cell_type": "code",
   "execution_count": 14,
   "id": "0d1494f1-1543-4070-bacd-06eeb4750e58",
   "metadata": {},
   "outputs": [
    {
     "data": {
      "text/plain": [
       "['../pipelines/MinMaxScaler.save']"
      ]
     },
     "execution_count": 14,
     "metadata": {},
     "output_type": "execute_result"
    }
   ],
   "source": [
    "import joblib\n",
    "\n",
    "scaler_filename = \"../pipelines/MinMaxScaler.save\"\n",
    "\n",
    "# Saving Scaler\n",
    "\n",
    "joblib.dump(FittedScaler, scaler_filename)"
   ]
  },
  {
   "cell_type": "code",
   "execution_count": 15,
   "id": "11c2dd07-49be-404d-9f1d-38f90fcb69cb",
   "metadata": {},
   "outputs": [],
   "source": [
    "# Loading Scaler\n",
    "\n",
    "Scaler = joblib.load(scaler_filename) "
   ]
  },
  {
   "cell_type": "code",
   "execution_count": 16,
   "id": "2c6601d5-4fd1-4660-bb17-b68ed33b0ab1",
   "metadata": {},
   "outputs": [],
   "source": [
    "# Transforming data\n",
    "\n",
    "X = Scaler.transform(X)"
   ]
  },
  {
   "cell_type": "markdown",
   "id": "6f86f38c-858c-44f8-8d2a-5585e11846cf",
   "metadata": {},
   "source": [
    "## Model Setup"
   ]
  },
  {
   "cell_type": "code",
   "execution_count": 18,
   "id": "22ce15f9-2d31-46cd-aad2-59973a50ea0d",
   "metadata": {},
   "outputs": [],
   "source": [
    "model = Sequential()\n",
    "\n",
    "model.add(Dense(27, activation = 'relu'))\n",
    "model.add(Dense(13, activation = 'relu'))\n",
    "model.add(Dense(6, activation = 'relu'))\n",
    "model.add(Dense(1))\n",
    "\n",
    "model.compile(optimizer = 'adam', loss = 'mean_squared_error')"
   ]
  },
  {
   "cell_type": "markdown",
   "id": "031a8111-06c8-444a-8f52-4829e6d64deb",
   "metadata": {},
   "source": [
    "## Fitting final model"
   ]
  },
  {
   "cell_type": "code",
   "execution_count": 19,
   "id": "14f35de4-bb27-41b2-b9cd-73b8b2090dbf",
   "metadata": {},
   "outputs": [
    {
     "name": "stdout",
     "output_type": "stream",
     "text": [
      "Epoch 1/25\n",
      "43862/43862 [==============================] - 56s 1ms/step - loss: 37.3211\n",
      "Epoch 2/25\n",
      "43862/43862 [==============================] - 55s 1ms/step - loss: 28.4480\n",
      "Epoch 3/25\n",
      "43862/43862 [==============================] - 56s 1ms/step - loss: 27.2612\n",
      "Epoch 4/25\n",
      "43862/43862 [==============================] - 55s 1ms/step - loss: 26.5020\n",
      "Epoch 5/25\n",
      "43862/43862 [==============================] - 56s 1ms/step - loss: 25.6809\n",
      "Epoch 6/25\n",
      "43862/43862 [==============================] - 56s 1ms/step - loss: 24.3272\n",
      "Epoch 7/25\n",
      "43862/43862 [==============================] - 56s 1ms/step - loss: 22.8804\n",
      "Epoch 8/25\n",
      "43862/43862 [==============================] - 56s 1ms/step - loss: 22.1298\n",
      "Epoch 9/25\n",
      "43862/43862 [==============================] - 56s 1ms/step - loss: 21.7045\n",
      "Epoch 10/25\n",
      "43862/43862 [==============================] - 56s 1ms/step - loss: 21.3101\n",
      "Epoch 11/25\n",
      "43862/43862 [==============================] - 56s 1ms/step - loss: 20.9264\n",
      "Epoch 12/25\n",
      "43862/43862 [==============================] - 56s 1ms/step - loss: 20.5443\n",
      "Epoch 13/25\n",
      "43862/43862 [==============================] - 56s 1ms/step - loss: 20.3649\n",
      "Epoch 14/25\n",
      "43862/43862 [==============================] - 56s 1ms/step - loss: 20.0995\n",
      "Epoch 15/25\n",
      "43862/43862 [==============================] - 56s 1ms/step - loss: 19.9938\n",
      "Epoch 16/25\n",
      "43862/43862 [==============================] - 57s 1ms/step - loss: 19.7103\n",
      "Epoch 17/25\n",
      "43862/43862 [==============================] - 56s 1ms/step - loss: 19.5716\n",
      "Epoch 18/25\n",
      "43862/43862 [==============================] - 57s 1ms/step - loss: 19.3221\n",
      "Epoch 19/25\n",
      "43862/43862 [==============================] - 57s 1ms/step - loss: 19.0129\n",
      "Epoch 20/25\n",
      "43862/43862 [==============================] - 57s 1ms/step - loss: 18.8050\n",
      "Epoch 21/25\n",
      "43862/43862 [==============================] - 57s 1ms/step - loss: 18.6480\n",
      "Epoch 22/25\n",
      "43862/43862 [==============================] - 57s 1ms/step - loss: 18.5222\n",
      "Epoch 23/25\n",
      "43862/43862 [==============================] - 57s 1ms/step - loss: 18.3682\n",
      "Epoch 24/25\n",
      "43862/43862 [==============================] - 57s 1ms/step - loss: 18.2185\n",
      "Epoch 25/25\n",
      "43862/43862 [==============================] - 57s 1ms/step - loss: 18.1351\n"
     ]
    },
    {
     "data": {
      "text/plain": [
       "<keras.callbacks.History at 0x7ff71d614640>"
      ]
     },
     "execution_count": 19,
     "metadata": {},
     "output_type": "execute_result"
    }
   ],
   "source": [
    "model.fit(x = X, y = y, batch_size = 1, epochs = 25)"
   ]
  },
  {
   "cell_type": "markdown",
   "id": "f0d4fb61-8529-4c1f-81d6-47d8759ba921",
   "metadata": {},
   "source": [
    "## Saving model"
   ]
  },
  {
   "cell_type": "code",
   "execution_count": 29,
   "id": "f3fd1ecc-902e-4260-867d-1cd146973a99",
   "metadata": {},
   "outputs": [],
   "source": [
    "# Saving the weights\n",
    "\n",
    "# Saving to .tf\n",
    "model.save_weights(filepath = '../model/model_weights.tf')\n",
    "\n",
    "# Saving to .h5\n",
    "model.save_weights(filepath = '../model/model_weights.h5')"
   ]
  },
  {
   "cell_type": "code",
   "execution_count": 30,
   "id": "08ffe368-513b-4408-92f8-487d79fe2e35",
   "metadata": {},
   "outputs": [
    {
     "name": "stderr",
     "output_type": "stream",
     "text": [
      "WARNING:absl:Found untraced functions such as _update_step_xla while saving (showing 1 of 1). These functions will not be directly callable after loading.\n"
     ]
    },
    {
     "name": "stdout",
     "output_type": "stream",
     "text": [
      "INFO:tensorflow:Assets written to: ../model/model.tf/assets\n"
     ]
    },
    {
     "name": "stderr",
     "output_type": "stream",
     "text": [
      "INFO:tensorflow:Assets written to: ../model/model.tf/assets\n"
     ]
    }
   ],
   "source": [
    "# Saving the model\n",
    "\n",
    "# Saving to .tf\n",
    "model.save(filepath = '../model/model.tf')\n",
    "\n",
    "# Saving to .h5\n",
    "model.save(filepath = '../model/model.h5')"
   ]
  },
  {
   "cell_type": "markdown",
   "id": "8a993993-1682-4cb6-b89d-2864c0bf1c17",
   "metadata": {},
   "source": [
    "## Testing saving files"
   ]
  },
  {
   "cell_type": "code",
   "execution_count": 33,
   "id": "94b8df6d-6ee5-459c-a730-ba37ec68a119",
   "metadata": {},
   "outputs": [],
   "source": [
    "import tensorflow as tf\n",
    "\n",
    "LoadedModelTF = tf.keras.models.load_model('../model/model.tf')\n",
    "LoadedModelH5 = tf.keras.models.load_model('../model/model.h5')"
   ]
  },
  {
   "cell_type": "code",
   "execution_count": 34,
   "id": "35dba201-83da-45f2-81cf-68e4a7454bef",
   "metadata": {},
   "outputs": [
    {
     "name": "stdout",
     "output_type": "stream",
     "text": [
      "Model: \"sequential\"\n",
      "_________________________________________________________________\n",
      " Layer (type)                Output Shape              Param #   \n",
      "=================================================================\n",
      " dense (Dense)               (None, 27)                756       \n",
      "                                                                 \n",
      " dense_1 (Dense)             (None, 13)                364       \n",
      "                                                                 \n",
      " dense_2 (Dense)             (None, 6)                 84        \n",
      "                                                                 \n",
      " dense_3 (Dense)             (None, 1)                 7         \n",
      "                                                                 \n",
      "=================================================================\n",
      "Total params: 1,211\n",
      "Trainable params: 1,211\n",
      "Non-trainable params: 0\n",
      "_________________________________________________________________\n"
     ]
    }
   ],
   "source": [
    "# TF\n",
    "LoadedModelTF.summary()"
   ]
  },
  {
   "cell_type": "code",
   "execution_count": 35,
   "id": "064d940c-3166-4ccd-94b7-bbc7c1b58fe4",
   "metadata": {},
   "outputs": [
    {
     "name": "stdout",
     "output_type": "stream",
     "text": [
      "Model: \"sequential\"\n",
      "_________________________________________________________________\n",
      " Layer (type)                Output Shape              Param #   \n",
      "=================================================================\n",
      " dense (Dense)               (None, 27)                756       \n",
      "                                                                 \n",
      " dense_1 (Dense)             (None, 13)                364       \n",
      "                                                                 \n",
      " dense_2 (Dense)             (None, 6)                 84        \n",
      "                                                                 \n",
      " dense_3 (Dense)             (None, 1)                 7         \n",
      "                                                                 \n",
      "=================================================================\n",
      "Total params: 1,211\n",
      "Trainable params: 1,211\n",
      "Non-trainable params: 0\n",
      "_________________________________________________________________\n"
     ]
    }
   ],
   "source": [
    "# H5\n",
    "\n",
    "LoadedModelH5.summary()"
   ]
  },
  {
   "cell_type": "markdown",
   "id": "2e21b27e-675b-4ba5-b14b-d458e4228093",
   "metadata": {},
   "source": [
    "## Random predictions with saved model"
   ]
  },
  {
   "cell_type": "code",
   "execution_count": 65,
   "id": "9bc9813b-7651-4612-a1d7-442ed6554b22",
   "metadata": {},
   "outputs": [],
   "source": [
    "import random\n",
    "\n",
    "index = random.randint(0, len(X))\n",
    "\n",
    "ToPredict = X[index]\n",
    "RealValue = y[index]"
   ]
  },
  {
   "cell_type": "code",
   "execution_count": 66,
   "id": "cc1c3c51-4b92-45e2-a5d1-93fe54bb27ec",
   "metadata": {},
   "outputs": [
    {
     "name": "stdout",
     "output_type": "stream",
     "text": [
      "1/1 [==============================] - 0s 21ms/step\n",
      "1/1 [==============================] - 0s 17ms/step\n"
     ]
    }
   ],
   "source": [
    "TFPrediction = LoadedModelTF.predict(ToPredict.reshape(1, 27))\n",
    "H5Prediction = LoadedModelH5.predict(ToPredict.reshape(1, 27))"
   ]
  },
  {
   "cell_type": "code",
   "execution_count": 74,
   "id": "fbb6327f-fd82-4082-b24c-f1afce4548ea",
   "metadata": {},
   "outputs": [
    {
     "data": {
      "text/plain": [
       "(32, 32)"
      ]
     },
     "execution_count": 74,
     "metadata": {},
     "output_type": "execute_result"
    }
   ],
   "source": [
    "round(TFPrediction[0][0]), round(H5Prediction[0][0])"
   ]
  },
  {
   "cell_type": "code",
   "execution_count": 68,
   "id": "83676785-d902-4a71-a98d-32c597c7f427",
   "metadata": {},
   "outputs": [
    {
     "data": {
      "text/plain": [
       "33.0"
      ]
     },
     "execution_count": 68,
     "metadata": {},
     "output_type": "execute_result"
    }
   ],
   "source": [
    "RealValue"
   ]
  }
 ],
 "metadata": {
  "kernelspec": {
   "display_name": "Python 3 (ipykernel)",
   "language": "python",
   "name": "python3"
  },
  "language_info": {
   "codemirror_mode": {
    "name": "ipython",
    "version": 3
   },
   "file_extension": ".py",
   "mimetype": "text/x-python",
   "name": "python",
   "nbconvert_exporter": "python",
   "pygments_lexer": "ipython3",
   "version": "3.10.9"
  }
 },
 "nbformat": 4,
 "nbformat_minor": 5
}
