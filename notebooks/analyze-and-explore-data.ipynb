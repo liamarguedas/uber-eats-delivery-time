{
 "cells": [
  {
   "cell_type": "markdown",
   "id": "47738486-7fdd-42c5-9962-bd69e8980d42",
   "metadata": {},
   "source": [
    "# Analyze, identify patterns, and explore the data.\n",
    "\n",
    "Analyzing data is important because it provides valuable insights and information that can drive decision-making and problem-solving. By analyzing data, patterns, trends, and correlations can be identified, enabling organizations to make informed decisions and predictions. Data analysis helps businesses understand their customers, optimize processes, identify opportunities, detect anomalies, and measure performance. It also supports evidence-based research and helps uncover relationships and causality between variables. Overall, data analysis empowers organizations to gain a competitive edge, improve efficiency, and make data-driven decisions.\n",
    "\n",
    "## Libraries"
   ]
  },
  {
   "cell_type": "code",
   "execution_count": 1,
   "id": "d083d58d-fb37-4ae3-9ff6-01e7ddb2e0e9",
   "metadata": {},
   "outputs": [],
   "source": [
    "# Warnings\n",
    "import warnings\n",
    "warnings.filterwarnings('ignore')\n",
    "\n",
    "# Libraries\n",
    "import numpy as np\n",
    "import pandas as pd\n",
    "import matplotlib.pyplot as plt\n",
    "import seaborn as sns\n",
    "\n",
    "# Settings\n",
    "pd.set_option('display.max_columns', None)\n",
    "sns.set_style('whitegrid')\n",
    "%matplotlib inline"
   ]
  },
  {
   "cell_type": "markdown",
   "id": "0c056cf9-9ed0-4e9c-a034-764d281c406f",
   "metadata": {},
   "source": [
    "## Loading data"
   ]
  },
  {
   "cell_type": "code",
   "execution_count": 2,
   "id": "3f046b88-3702-4334-81a0-6dfc1e5fb09d",
   "metadata": {},
   "outputs": [],
   "source": [
    "data = pd.read_csv('../data/cleaned_data.csv')"
   ]
  },
  {
   "cell_type": "markdown",
   "id": "6e4eebf7-02f1-4a45-b7d1-b6d41c935181",
   "metadata": {},
   "source": [
    "---\n",
    "\n",
    "# Project Target (Time_taken(min))\n",
    "The time taken by the delivery partner to complete the order"
   ]
  },
  {
   "cell_type": "code",
   "execution_count": 3,
   "id": "90a687bf-ae5b-4c92-ab2f-dc88f1fbfe93",
   "metadata": {},
   "outputs": [
    {
     "data": {
      "image/png": "[encoded data removed]",
      "text/plain": [
       "<Figure size 1000x300 with 2 Axes>"
      ]
     },
     "metadata": {},
     "output_type": "display_data"
    }
   ],
   "source": [
    "fig, (ax1, ax2) = plt.subplots(ncols = 2, nrows = 1, figsize = (10, 3))\n",
    "\n",
    "sns.distplot(x = data['Time_taken(min)'], bins = 20,\n",
    "             kde = False, hist_kws = {'alpha': 1}, color = 'green', ax = ax1)\n",
    "ax1.set_title('Distribution of Time_taken')\n",
    "\n",
    "sns.boxplot(data = data, x = 'Time_taken(min)', ax = ax2, color = 'green')\n",
    "ax2.set_title('Quantiles boxplot');"
   ]
  },
  {
   "cell_type": "code",
   "execution_count": 4,
   "id": "b464a458-7a62-4153-9cc3-f3594c7fc607",
   "metadata": {},
   "outputs": [
    {
     "data": {
      "text/html": [
       "<div>\n",
       "<style scoped>\n",
       "    .dataframe tbody tr th:only-of-type {\n",
       "        vertical-align: middle;\n",
       "    }\n",
       "\n",
       "    .dataframe tbody tr th {\n",
       "        vertical-align: top;\n",
       "    }\n",
       "\n",
       "    .dataframe thead th {\n",
       "        text-align: right;\n",
       "    }\n",
       "</style>\n",
       "<table border=\"1\" class=\"dataframe\">\n",
       "  <thead>\n",
       "    <tr style=\"text-align: right;\">\n",
       "      <th></th>\n",
       "      <th>Time_taken(min)</th>\n",
       "    </tr>\n",
       "  </thead>\n",
       "  <tbody>\n",
       "    <tr>\n",
       "      <th>mean</th>\n",
       "      <td>26.293831</td>\n",
       "    </tr>\n",
       "    <tr>\n",
       "      <th>std</th>\n",
       "      <td>9.373765</td>\n",
       "    </tr>\n",
       "    <tr>\n",
       "      <th>min</th>\n",
       "      <td>10.000000</td>\n",
       "    </tr>\n",
       "    <tr>\n",
       "      <th>25%</th>\n",
       "      <td>19.000000</td>\n",
       "    </tr>\n",
       "    <tr>\n",
       "      <th>50%</th>\n",
       "      <td>26.000000</td>\n",
       "    </tr>\n",
       "    <tr>\n",
       "      <th>75%</th>\n",
       "      <td>32.000000</td>\n",
       "    </tr>\n",
       "    <tr>\n",
       "      <th>max</th>\n",
       "      <td>54.000000</td>\n",
       "    </tr>\n",
       "  </tbody>\n",
       "</table>\n",
       "</div>"
      ],
      "text/plain": [
       "      Time_taken(min)\n",
       "mean        26.293831\n",
       "std          9.373765\n",
       "min         10.000000\n",
       "25%         19.000000\n",
       "50%         26.000000\n",
       "75%         32.000000\n",
       "max         54.000000"
      ]
     },
     "execution_count": 4,
     "metadata": {},
     "output_type": "execute_result"
    }
   ],
   "source": [
    "data['Time_taken(min)'].describe().to_frame()[1:]"
   ]
  },
  {
   "cell_type": "code",
   "execution_count": 13,
   "id": "5311c892-3914-4bf5-9f92-d3eef094b10f",
   "metadata": {},
   "outputs": [
    {
     "data": {
      "text/plain": [
       "(49.0, 412)"
      ]
     },
     "execution_count": 13,
     "metadata": {},
     "output_type": "execute_result"
    }
   ],
   "source": [
    "# Quantile 0.99, outliers count\n",
    "data['Time_taken(min)'].quantile(0.99), data[data['Time_taken(min)'] > data['Time_taken(min)'].quantile(0.99)].count()[0]"
   ]
  },
  {
   "cell_type": "code",
   "execution_count": 9,
   "id": "487a9965-aa59-4c94-b59b-af1594bbe403",
   "metadata": {},
   "outputs": [
    {
     "data": {
      "text/html": [
       "<div>\n",
       "<style scoped>\n",
       "    .dataframe tbody tr th:only-of-type {\n",
       "        vertical-align: middle;\n",
       "    }\n",
       "\n",
       "    .dataframe tbody tr th {\n",
       "        vertical-align: top;\n",
       "    }\n",
       "\n",
       "    .dataframe thead th {\n",
       "        text-align: right;\n",
       "    }\n",
       "</style>\n",
       "<table border=\"1\" class=\"dataframe\">\n",
       "  <thead>\n",
       "    <tr style=\"text-align: right;\">\n",
       "      <th></th>\n",
       "      <th>Weatherconditions</th>\n",
       "      <th>Road_traffic_density</th>\n",
       "      <th>Time_taken(min)</th>\n",
       "    </tr>\n",
       "  </thead>\n",
       "  <tbody>\n",
       "    <tr>\n",
       "      <th>0</th>\n",
       "      <td>Fog</td>\n",
       "      <td>Jam</td>\n",
       "      <td>53.0</td>\n",
       "    </tr>\n",
       "  </tbody>\n",
       "</table>\n",
       "</div>"
      ],
      "text/plain": [
       "  Weatherconditions Road_traffic_density  Time_taken(min)\n",
       "0               Fog                  Jam             53.0"
      ]
     },
     "execution_count": 9,
     "metadata": {},
     "output_type": "execute_result"
    }
   ],
   "source": [
    "data[data['Time_taken(min)'] > data['Time_taken(min)'].quantile(0.99)][['Weatherconditions', 'Road_traffic_density', 'Time_taken(min)']].mode()"
   ]
  },
  {
   "cell_type": "code",
   "execution_count": 53,
   "id": "c0997a78-fd87-4196-b7b0-f05d0ec5a1b8",
   "metadata": {},
   "outputs": [
    {
     "data": {
      "image/png": "[encoded data removed]",
      "text/plain": [
       "<Figure size 400x200 with 1 Axes>"
      ]
     },
     "metadata": {},
     "output_type": "display_data"
    }
   ],
   "source": [
    "plt.figure(figsize = (4, 2))\n",
    "\n",
    "sns.distplot(x = data[data['Time_taken(min)'] > data['Time_taken(min)'].quantile(0.99)]['Time_taken(min)'], hist_kws = {'alpha': 1}, kde = False)\n",
    "plt.axvline(data[data['Time_taken(min)'] > data['Time_taken(min)'].quantile(0.99)]['Time_taken(min)'].mean(), color = 'red')\n",
    "plt.title('Target outliers distribution');"
   ]
  },
  {
   "cell_type": "code",
   "execution_count": 39,
   "id": "67e5bb81-8652-47be-879a-cca233e47f3d",
   "metadata": {},
   "outputs": [
    {
     "data": {
      "text/plain": [
       "(16.0, 36920)"
      ]
     },
     "execution_count": 39,
     "metadata": {},
     "output_type": "execute_result"
    }
   ],
   "source": [
    "# Quantile 0.15, fastest deliveries count\n",
    "data['Time_taken(min)'].quantile(0.15), data[data['Time_taken(min)'] > data['Time_taken(min)'].quantile(0.15)].count()[0]"
   ]
  },
  {
   "cell_type": "code",
   "execution_count": 41,
   "id": "9090a2e5-f5b2-4b23-bfee-084799764eb1",
   "metadata": {},
   "outputs": [
    {
     "data": {
      "text/plain": [
       "84.17308832246592"
      ]
     },
     "execution_count": 41,
     "metadata": {},
     "output_type": "execute_result"
    }
   ],
   "source": [
    "# Percentage of deliveries below 16 minutes\n",
    "data[data['Time_taken(min)'] > data['Time_taken(min)'].quantile(0.15)].count()[0] / data.shape[0] * 100"
   ]
  },
  {
   "cell_type": "code",
   "execution_count": 42,
   "id": "b2d49317-4d88-4ec3-bab7-66527e30da01",
   "metadata": {},
   "outputs": [
    {
     "data": {
      "text/plain": [
       "(10.0, 54.0)"
      ]
     },
     "execution_count": 42,
     "metadata": {},
     "output_type": "execute_result"
    }
   ],
   "source": [
    "data['Time_taken(min)'].min(), data['Time_taken(min)'].max() "
   ]
  },
  {
   "cell_type": "code",
   "execution_count": 8,
   "id": "28d819ab-140b-425a-86da-f5e4f64f3c04",
   "metadata": {},
   "outputs": [
    {
     "data": {
      "image/png": "[encoded data removed]",
      "text/plain": [
       "<Figure size 600x400 with 1 Axes>"
      ]
     },
     "metadata": {},
     "output_type": "display_data"
    }
   ],
   "source": [
    "data.drop(['Order_Year', 'Restaurant_latitude',\n",
    "       'Restaurant_longitude', 'Delivery_location_latitude',\n",
    "       'Delivery_location_longitude'], axis = 1).corr()['Time_taken(min)'].sort_values(ascending = False)[1:].plot(kind = 'bar',\n",
    "                                                                       title = 'Feature and Target Correlation',\n",
    "                                                                                                   figsize = (6, 4))\n",
    "\n",
    "plt.grid(False);"
   ]
  },
  {
   "cell_type": "code",
   "execution_count": 69,
   "id": "61672077-cd5b-429c-a867-1c2c9c737f26",
   "metadata": {},
   "outputs": [
    {
     "data": {
      "image/png": "[encoded data removed]",
      "text/plain": [
       "<Figure size 1500x400 with 3 Axes>"
      ]
     },
     "metadata": {},
     "output_type": "display_data"
    }
   ],
   "source": [
    "import scipy.stats as stats\n",
    "\n",
    "TargetBoxCox, param = stats.boxcox(data['Time_taken(min)'])\n",
    "\n",
    "fig, (ax1, ax2, ax3) = plt.subplots(ncols = 3, nrows = 1, figsize = (15, 4))\n",
    "\n",
    "sns.distplot(TargetBoxCox, bins = 20, kde = False, hist_kws = {'alpha': 1}, ax = ax1)\n",
    "ax1.axvline(TargetBoxCox.mean(), color = 'red', label = f'mean {round(TargetBoxCox.mean(), 2)}')\n",
    "ax1.set_title('BoxCox transformation')\n",
    "ax1.legend(loc = 'upper left')\n",
    "\n",
    "sns.distplot(np.log(data['Time_taken(min)']), bins = 20, kde = False, hist_kws = {'alpha': 1}, ax = ax2)\n",
    "ax2.axvline(np.log(data['Time_taken(min)']).mean(), color = 'red', label = f\"mean {round(np.log(data['Time_taken(min)']).mean(), 3)}\")\n",
    "ax2.set_title('Log transformation')\n",
    "ax2.legend(loc = 'upper left')\n",
    "\n",
    "sns.distplot(1 / (data['Time_taken(min)']), bins = 20, kde = False, hist_kws = {'alpha': 1}, ax = ax3)\n",
    "ax3.axvline((1 / (data['Time_taken(min)'])).mean(), color = 'red', label = f\"mean {round((1 / (data['Time_taken(min)'])).mean(), 2)}\")\n",
    "ax3.set_title('Reciprocal transformation')\n",
    "ax3.legend()\n",
    "\n",
    "plt.tight_layout();"
   ]
  },
  {
   "cell_type": "markdown",
   "id": "70e60fb2-5c00-451b-96e3-395ff2d1ab76",
   "metadata": {},
   "source": [
    "**Importan finds:**\n",
    "-  Target is a little right skewed\n",
    "-  Skewness is cause due to outliers that are above the 0.99 quantile, meaning, 49 or more minutes do deliver the order.\n",
    "-  Average weather conditions of those outliers was Fog,  traffic density Jam and the deliver time about 53 minutes.\n",
    "-  More than 80% of the deliveries were made in 16 minutes or less.\n",
    "-  Fastest delivery was 10 minutes and the slowest 54 minutes\n",
    "-  The amount of deliveries and the ratings of the person delivering are key factors to the delivery time.\n",
    "\n",
    "**Notes:**\n",
    "- I might need to perform some transformation in order to normalise the target\n",
    "- BoxCox transformation is the one that fits a better normal distribution.\n"
   ]
  },
  {
   "cell_type": "markdown",
   "id": "b2b7e6c8-e339-4430-9320-c4182c438d70",
   "metadata": {},
   "source": [
    "# Descrete & Continuous Features"
   ]
  },
  {
   "cell_type": "code",
   "execution_count": 70,
   "id": "a2bd967d-0b36-4a06-b78e-41d536a3c292",
   "metadata": {},
   "outputs": [
    {
     "name": "stdout",
     "output_type": "stream",
     "text": [
      "<class 'pandas.core.frame.DataFrame'>\n",
      "RangeIndex: 43862 entries, 0 to 43861\n",
      "Data columns (total 24 columns):\n",
      " #   Column                       Non-Null Count  Dtype  \n",
      "---  ------                       --------------  -----  \n",
      " 0   ID                           43862 non-null  object \n",
      " 1   Delivery_person_ID           43862 non-null  object \n",
      " 2   Delivery_person_Age          43862 non-null  float64\n",
      " 3   Delivery_person_Ratings      43862 non-null  float64\n",
      " 4   Restaurant_latitude          43862 non-null  float64\n",
      " 5   Restaurant_longitude         43862 non-null  float64\n",
      " 6   Delivery_location_latitude   43862 non-null  float64\n",
      " 7   Delivery_location_longitude  43862 non-null  float64\n",
      " 8   Order_Date                   43862 non-null  object \n",
      " 9   Time_Orderd                  43862 non-null  object \n",
      " 10  Time_Order_picked            43862 non-null  object \n",
      " 11  Weatherconditions            43862 non-null  object \n",
      " 12  Road_traffic_density         43862 non-null  object \n",
      " 13  Vehicle_condition            43862 non-null  float64\n",
      " 14  Type_of_order                43862 non-null  object \n",
      " 15  Type_of_vehicle              43862 non-null  object \n",
      " 16  multiple_deliveries          43862 non-null  float64\n",
      " 17  Festival                     43862 non-null  object \n",
      " 18  City                         43862 non-null  object \n",
      " 19  Time_taken(min)              43862 non-null  float64\n",
      " 20  Time_To_Pick                 43862 non-null  float64\n",
      " 21  Order_Year                   43862 non-null  float64\n",
      " 22  Order_Month                  43862 non-null  object \n",
      " 23  Order_Day                    43862 non-null  object \n",
      "dtypes: float64(11), object(13)\n",
      "memory usage: 8.0+ MB\n"
     ]
    }
   ],
   "source": [
    "data.info()"
   ]
  },
  {
   "cell_type": "code",
   "execution_count": 71,
   "id": "98bf03fa-2d5f-41f5-8c22-7a2bf829fc51",
   "metadata": {},
   "outputs": [
    {
     "data": {
      "text/html": [
       "<div>\n",
       "<style scoped>\n",
       "    .dataframe tbody tr th:only-of-type {\n",
       "        vertical-align: middle;\n",
       "    }\n",
       "\n",
       "    .dataframe tbody tr th {\n",
       "        vertical-align: top;\n",
       "    }\n",
       "\n",
       "    .dataframe thead th {\n",
       "        text-align: right;\n",
       "    }\n",
       "</style>\n",
       "<table border=\"1\" class=\"dataframe\">\n",
       "  <thead>\n",
       "    <tr style=\"text-align: right;\">\n",
       "      <th></th>\n",
       "      <th>Delivery_person_Age</th>\n",
       "      <th>Delivery_person_Ratings</th>\n",
       "      <th>Restaurant_latitude</th>\n",
       "      <th>Restaurant_longitude</th>\n",
       "      <th>Delivery_location_latitude</th>\n",
       "      <th>Delivery_location_longitude</th>\n",
       "      <th>Vehicle_condition</th>\n",
       "      <th>multiple_deliveries</th>\n",
       "      <th>Time_taken(min)</th>\n",
       "      <th>Time_To_Pick</th>\n",
       "      <th>Order_Year</th>\n",
       "    </tr>\n",
       "  </thead>\n",
       "  <tbody>\n",
       "    <tr>\n",
       "      <th>0</th>\n",
       "      <td>37.0</td>\n",
       "      <td>4.9</td>\n",
       "      <td>22.745049</td>\n",
       "      <td>75.892471</td>\n",
       "      <td>22.765049</td>\n",
       "      <td>75.912471</td>\n",
       "      <td>2.0</td>\n",
       "      <td>0.0</td>\n",
       "      <td>24.0</td>\n",
       "      <td>15.0</td>\n",
       "      <td>2022.0</td>\n",
       "    </tr>\n",
       "    <tr>\n",
       "      <th>1</th>\n",
       "      <td>34.0</td>\n",
       "      <td>4.5</td>\n",
       "      <td>12.913041</td>\n",
       "      <td>77.683237</td>\n",
       "      <td>13.043041</td>\n",
       "      <td>77.813237</td>\n",
       "      <td>2.0</td>\n",
       "      <td>1.0</td>\n",
       "      <td>33.0</td>\n",
       "      <td>5.0</td>\n",
       "      <td>2022.0</td>\n",
       "    </tr>\n",
       "    <tr>\n",
       "      <th>2</th>\n",
       "      <td>23.0</td>\n",
       "      <td>4.4</td>\n",
       "      <td>12.914264</td>\n",
       "      <td>77.678400</td>\n",
       "      <td>12.924264</td>\n",
       "      <td>77.688400</td>\n",
       "      <td>0.0</td>\n",
       "      <td>1.0</td>\n",
       "      <td>26.0</td>\n",
       "      <td>15.0</td>\n",
       "      <td>2022.0</td>\n",
       "    </tr>\n",
       "    <tr>\n",
       "      <th>3</th>\n",
       "      <td>38.0</td>\n",
       "      <td>4.7</td>\n",
       "      <td>11.003669</td>\n",
       "      <td>76.976494</td>\n",
       "      <td>11.053669</td>\n",
       "      <td>77.026494</td>\n",
       "      <td>0.0</td>\n",
       "      <td>1.0</td>\n",
       "      <td>21.0</td>\n",
       "      <td>10.0</td>\n",
       "      <td>2022.0</td>\n",
       "    </tr>\n",
       "    <tr>\n",
       "      <th>4</th>\n",
       "      <td>32.0</td>\n",
       "      <td>4.6</td>\n",
       "      <td>12.972793</td>\n",
       "      <td>80.249982</td>\n",
       "      <td>13.012793</td>\n",
       "      <td>80.289982</td>\n",
       "      <td>1.0</td>\n",
       "      <td>1.0</td>\n",
       "      <td>30.0</td>\n",
       "      <td>15.0</td>\n",
       "      <td>2022.0</td>\n",
       "    </tr>\n",
       "    <tr>\n",
       "      <th>...</th>\n",
       "      <td>...</td>\n",
       "      <td>...</td>\n",
       "      <td>...</td>\n",
       "      <td>...</td>\n",
       "      <td>...</td>\n",
       "      <td>...</td>\n",
       "      <td>...</td>\n",
       "      <td>...</td>\n",
       "      <td>...</td>\n",
       "      <td>...</td>\n",
       "      <td>...</td>\n",
       "    </tr>\n",
       "    <tr>\n",
       "      <th>43857</th>\n",
       "      <td>30.0</td>\n",
       "      <td>4.8</td>\n",
       "      <td>26.902328</td>\n",
       "      <td>75.794257</td>\n",
       "      <td>26.912328</td>\n",
       "      <td>75.804257</td>\n",
       "      <td>1.0</td>\n",
       "      <td>0.0</td>\n",
       "      <td>32.0</td>\n",
       "      <td>10.0</td>\n",
       "      <td>2022.0</td>\n",
       "    </tr>\n",
       "    <tr>\n",
       "      <th>43858</th>\n",
       "      <td>21.0</td>\n",
       "      <td>4.6</td>\n",
       "      <td>0.000000</td>\n",
       "      <td>0.000000</td>\n",
       "      <td>0.070000</td>\n",
       "      <td>0.070000</td>\n",
       "      <td>0.0</td>\n",
       "      <td>1.0</td>\n",
       "      <td>36.0</td>\n",
       "      <td>15.0</td>\n",
       "      <td>2022.0</td>\n",
       "    </tr>\n",
       "    <tr>\n",
       "      <th>43859</th>\n",
       "      <td>30.0</td>\n",
       "      <td>4.9</td>\n",
       "      <td>13.022394</td>\n",
       "      <td>80.242439</td>\n",
       "      <td>13.052394</td>\n",
       "      <td>80.272439</td>\n",
       "      <td>1.0</td>\n",
       "      <td>0.0</td>\n",
       "      <td>16.0</td>\n",
       "      <td>-1425.0</td>\n",
       "      <td>2022.0</td>\n",
       "    </tr>\n",
       "    <tr>\n",
       "      <th>43860</th>\n",
       "      <td>20.0</td>\n",
       "      <td>4.7</td>\n",
       "      <td>11.001753</td>\n",
       "      <td>76.986241</td>\n",
       "      <td>11.041753</td>\n",
       "      <td>77.026241</td>\n",
       "      <td>0.0</td>\n",
       "      <td>1.0</td>\n",
       "      <td>26.0</td>\n",
       "      <td>5.0</td>\n",
       "      <td>2022.0</td>\n",
       "    </tr>\n",
       "    <tr>\n",
       "      <th>43861</th>\n",
       "      <td>23.0</td>\n",
       "      <td>4.9</td>\n",
       "      <td>23.351058</td>\n",
       "      <td>85.325731</td>\n",
       "      <td>23.431058</td>\n",
       "      <td>85.405731</td>\n",
       "      <td>2.0</td>\n",
       "      <td>1.0</td>\n",
       "      <td>36.0</td>\n",
       "      <td>5.0</td>\n",
       "      <td>2022.0</td>\n",
       "    </tr>\n",
       "  </tbody>\n",
       "</table>\n",
       "<p>43862 rows × 11 columns</p>\n",
       "</div>"
      ],
      "text/plain": [
       "       Delivery_person_Age  Delivery_person_Ratings  Restaurant_latitude  \\\n",
       "0                     37.0                      4.9            22.745049   \n",
       "1                     34.0                      4.5            12.913041   \n",
       "2                     23.0                      4.4            12.914264   \n",
       "3                     38.0                      4.7            11.003669   \n",
       "4                     32.0                      4.6            12.972793   \n",
       "...                    ...                      ...                  ...   \n",
       "43857                 30.0                      4.8            26.902328   \n",
       "43858                 21.0                      4.6             0.000000   \n",
       "43859                 30.0                      4.9            13.022394   \n",
       "43860                 20.0                      4.7            11.001753   \n",
       "43861                 23.0                      4.9            23.351058   \n",
       "\n",
       "       Restaurant_longitude  Delivery_location_latitude  \\\n",
       "0                 75.892471                   22.765049   \n",
       "1                 77.683237                   13.043041   \n",
       "2                 77.678400                   12.924264   \n",
       "3                 76.976494                   11.053669   \n",
       "4                 80.249982                   13.012793   \n",
       "...                     ...                         ...   \n",
       "43857             75.794257                   26.912328   \n",
       "43858              0.000000                    0.070000   \n",
       "43859             80.242439                   13.052394   \n",
       "43860             76.986241                   11.041753   \n",
       "43861             85.325731                   23.431058   \n",
       "\n",
       "       Delivery_location_longitude  Vehicle_condition  multiple_deliveries  \\\n",
       "0                        75.912471                2.0                  0.0   \n",
       "1                        77.813237                2.0                  1.0   \n",
       "2                        77.688400                0.0                  1.0   \n",
       "3                        77.026494                0.0                  1.0   \n",
       "4                        80.289982                1.0                  1.0   \n",
       "...                            ...                ...                  ...   \n",
       "43857                    75.804257                1.0                  0.0   \n",
       "43858                     0.070000                0.0                  1.0   \n",
       "43859                    80.272439                1.0                  0.0   \n",
       "43860                    77.026241                0.0                  1.0   \n",
       "43861                    85.405731                2.0                  1.0   \n",
       "\n",
       "       Time_taken(min)  Time_To_Pick  Order_Year  \n",
       "0                 24.0          15.0      2022.0  \n",
       "1                 33.0           5.0      2022.0  \n",
       "2                 26.0          15.0      2022.0  \n",
       "3                 21.0          10.0      2022.0  \n",
       "4                 30.0          15.0      2022.0  \n",
       "...                ...           ...         ...  \n",
       "43857             32.0          10.0      2022.0  \n",
       "43858             36.0          15.0      2022.0  \n",
       "43859             16.0       -1425.0      2022.0  \n",
       "43860             26.0           5.0      2022.0  \n",
       "43861             36.0           5.0      2022.0  \n",
       "\n",
       "[43862 rows x 11 columns]"
      ]
     },
     "execution_count": 71,
     "metadata": {},
     "output_type": "execute_result"
    }
   ],
   "source": [
    "NumericalDatadata.select_dtypes(exclude = 'O')"
   ]
  },
  {
   "cell_type": "code",
   "execution_count": null,
   "id": "c067e1b8-b920-46cc-86d9-c685b828a25f",
   "metadata": {},
   "outputs": [],
   "source": []
  }
 ],
 "metadata": {
  "kernelspec": {
   "display_name": "Python 3 (ipykernel)",
   "language": "python",
   "name": "python3"
  },
  "language_info": {
   "codemirror_mode": {
    "name": "ipython",
    "version": 3
   },
   "file_extension": ".py",
   "mimetype": "text/x-python",
   "name": "python",
   "nbconvert_exporter": "python",
   "pygments_lexer": "ipython3",
   "version": "3.10.9"
  }
 },
 "nbformat": 4,
 "nbformat_minor": 5
}
