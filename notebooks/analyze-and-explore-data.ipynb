{
 "cells": [
  {
   "cell_type": "markdown",
   "id": "47738486-7fdd-42c5-9962-bd69e8980d42",
   "metadata": {},
   "source": [
    "# Analyze, identify patterns, and explore the data.\n",
    "\n",
    "Analyzing data is important because it provides valuable insights and information that can drive decision-making and problem-solving. By analyzing data, patterns, trends, and correlations can be identified, enabling organizations to make informed decisions and predictions. Data analysis helps businesses understand their customers, optimize processes, identify opportunities, detect anomalies, and measure performance. It also supports evidence-based research and helps uncover relationships and causality between variables. Overall, data analysis empowers organizations to gain a competitive edge, improve efficiency, and make data-driven decisions.\n",
    "\n",
    "## Libraries"
   ]
  },
  {
   "cell_type": "code",
   "execution_count": 1,
   "id": "d083d58d-fb37-4ae3-9ff6-01e7ddb2e0e9",
   "metadata": {},
   "outputs": [],
   "source": [
    "# Warnings\n",
    "import warnings\n",
    "warnings.filterwarnings('ignore')\n",
    "\n",
    "# Libraries\n",
    "import numpy as np\n",
    "import pandas as pd\n",
    "import matplotlib.pyplot as plt\n",
    "import seaborn as sns\n",
    "\n",
    "# Settings\n",
    "pd.set_option('display.max_columns', None)\n",
    "sns.set_style('whitegrid')\n",
    "%matplotlib inline"
   ]
  },
  {
   "cell_type": "markdown",
   "id": "0c056cf9-9ed0-4e9c-a034-764d281c406f",
   "metadata": {},
   "source": [
    "## Loading data"
   ]
  },
  {
   "cell_type": "code",
   "execution_count": 4,
   "id": "3f046b88-3702-4334-81a0-6dfc1e5fb09d",
   "metadata": {},
   "outputs": [],
   "source": [
    "data = pd.read_csv('../data/cleaned_data.csv')"
   ]
  },
  {
   "cell_type": "markdown",
   "id": "6e4eebf7-02f1-4a45-b7d1-b6d41c935181",
   "metadata": {},
   "source": [
    "---\n",
    "\n",
    "## Project Target (Time_taken)\n",
    "The time taken by the delivery partner to complete the order"
   ]
  },
  {
   "cell_type": "code",
   "execution_count": 19,
   "id": "90a687bf-ae5b-4c92-ab2f-dc88f1fbfe93",
   "metadata": {},
   "outputs": [
    {
     "data": {
      "image/png": "[encoded data removed]",
      "text/plain": [
       "<Figure size 1000x300 with 2 Axes>"
      ]
     },
     "metadata": {},
     "output_type": "display_data"
    }
   ],
   "source": [
    "fig, (ax1, ax2) = plt.subplots(ncols = 2, nrows = 1, figsize = (10, 3))\n",
    "\n",
    "sns.distplot(x = data['Time_taken(min)'], bins = 20,\n",
    "             kde = False, hist_kws = {'alpha': 1}, color = 'green', ax = ax1)\n",
    "ax1.set_title('Distribution of Time_taken')\n",
    "\n",
    "sns.boxplot(data = data, x = 'Time_taken(min)', ax = ax2, color = 'green')\n",
    "ax2.set_title('Quantiles boxplot');"
   ]
  },
  {
   "cell_type": "code",
   "execution_count": 27,
   "id": "487a9965-aa59-4c94-b59b-af1594bbe403",
   "metadata": {},
   "outputs": [
    {
     "data": {
      "text/html": [
       "<div>\n",
       "<style scoped>\n",
       "    .dataframe tbody tr th:only-of-type {\n",
       "        vertical-align: middle;\n",
       "    }\n",
       "\n",
       "    .dataframe tbody tr th {\n",
       "        vertical-align: top;\n",
       "    }\n",
       "\n",
       "    .dataframe thead th {\n",
       "        text-align: right;\n",
       "    }\n",
       "</style>\n",
       "<table border=\"1\" class=\"dataframe\">\n",
       "  <thead>\n",
       "    <tr style=\"text-align: right;\">\n",
       "      <th></th>\n",
       "      <th>Weatherconditions</th>\n",
       "      <th>Road_traffic_density</th>\n",
       "      <th>Time_taken(min)</th>\n",
       "    </tr>\n",
       "  </thead>\n",
       "  <tbody>\n",
       "    <tr>\n",
       "      <th>42</th>\n",
       "      <td>Sandstorms</td>\n",
       "      <td>Jam</td>\n",
       "      <td>52.0</td>\n",
       "    </tr>\n",
       "    <tr>\n",
       "      <th>138</th>\n",
       "      <td>Sandstorms</td>\n",
       "      <td>Jam</td>\n",
       "      <td>50.0</td>\n",
       "    </tr>\n",
       "    <tr>\n",
       "      <th>183</th>\n",
       "      <td>Sandstorms</td>\n",
       "      <td>Jam</td>\n",
       "      <td>54.0</td>\n",
       "    </tr>\n",
       "    <tr>\n",
       "      <th>259</th>\n",
       "      <td>Cloudy</td>\n",
       "      <td>Jam</td>\n",
       "      <td>53.0</td>\n",
       "    </tr>\n",
       "    <tr>\n",
       "      <th>268</th>\n",
       "      <td>Sandstorms</td>\n",
       "      <td>Jam</td>\n",
       "      <td>50.0</td>\n",
       "    </tr>\n",
       "  </tbody>\n",
       "</table>\n",
       "</div>"
      ],
      "text/plain": [
       "    Weatherconditions Road_traffic_density  Time_taken(min)\n",
       "42         Sandstorms                  Jam             52.0\n",
       "138        Sandstorms                  Jam             50.0\n",
       "183        Sandstorms                  Jam             54.0\n",
       "259            Cloudy                  Jam             53.0\n",
       "268        Sandstorms                  Jam             50.0"
      ]
     },
     "execution_count": 27,
     "metadata": {},
     "output_type": "execute_result"
    }
   ],
   "source": [
    "data[data['Time_taken(min)'] > data['Time_taken(min)'].quantile(0.99)][['Weatherconditions', 'Road_traffic_density', 'Time_taken(min)']].head()"
   ]
  }
 ],
 "metadata": {
  "kernelspec": {
   "display_name": "Python 3 (ipykernel)",
   "language": "python",
   "name": "python3"
  },
  "language_info": {
   "codemirror_mode": {
    "name": "ipython",
    "version": 3
   },
   "file_extension": ".py",
   "mimetype": "text/x-python",
   "name": "python",
   "nbconvert_exporter": "python",
   "pygments_lexer": "ipython3",
   "version": "3.10.9"
  }
 },
 "nbformat": 4,
 "nbformat_minor": 5
}
