{
 "cells": [
  {
   "cell_type": "markdown",
   "id": "39c97774-c97c-4fc0-880f-e5ccfed6b4e3",
   "metadata": {},
   "source": [
    "# Acquire training and testing data\n",
    "\n",
    "Data has been gathered through the UberEats Database and it has about 45 thousand recent deliveries from different cities."
   ]
  },
  {
   "cell_type": "markdown",
   "id": "7a28cdfb-4227-455a-beac-4231f62a7c95",
   "metadata": {},
   "source": [
    "## Libraries"
   ]
  },
  {
   "cell_type": "code",
   "execution_count": 1,
   "id": "d65f58a8-addb-4152-b094-c214a8f9c4e6",
   "metadata": {},
   "outputs": [],
   "source": [
    "# Warnings\n",
    "import warnings\n",
    "warnings.filterwarnings('ignore')\n",
    "\n",
    "# Libraries\n",
    "import numpy as np\n",
    "import pandas as pd\n",
    "import matplotlib.pyplot as plt\n",
    "import seaborn as sns\n",
    "\n",
    "# Settings\n",
    "pd.set_option('display.max_columns', None)\n",
    "sns.set_style('whitegrid')\n",
    "%matplotlib inline"
   ]
  },
  {
   "cell_type": "markdown",
   "id": "c2c41518-97f8-40f6-8676-9d54366fe747",
   "metadata": {},
   "source": [
    "## Loading data"
   ]
  },
  {
   "cell_type": "code",
   "execution_count": 2,
   "id": "cab2ee7e-af5d-496a-8f92-31d0734c4fdd",
   "metadata": {},
   "outputs": [],
   "source": [
    "data = pd.read_csv(\"../data/uber-eats-deliveries.csv\")"
   ]
  },
  {
   "cell_type": "markdown",
   "id": "77a3ab57-8aab-4081-956b-db6a9835512e",
   "metadata": {},
   "source": [
    "---\n",
    "# Wrangle, prepare, cleanse the data\n",
    "\n",
    "## Understanding data information"
   ]
  },
  {
   "cell_type": "code",
   "execution_count": 3,
   "id": "0e239402-e616-4365-928c-4b5344dd8d69",
   "metadata": {},
   "outputs": [
    {
     "name": "stdout",
     "output_type": "stream",
     "text": [
      "<class 'pandas.core.frame.DataFrame'>\n",
      "RangeIndex: 45593 entries, 0 to 45592\n",
      "Data columns (total 20 columns):\n",
      " #   Column                       Non-Null Count  Dtype  \n",
      "---  ------                       --------------  -----  \n",
      " 0   ID                           45593 non-null  object \n",
      " 1   Delivery_person_ID           45593 non-null  object \n",
      " 2   Delivery_person_Age          45593 non-null  object \n",
      " 3   Delivery_person_Ratings      45593 non-null  object \n",
      " 4   Restaurant_latitude          45593 non-null  float64\n",
      " 5   Restaurant_longitude         45593 non-null  float64\n",
      " 6   Delivery_location_latitude   45593 non-null  float64\n",
      " 7   Delivery_location_longitude  45593 non-null  float64\n",
      " 8   Order_Date                   45593 non-null  object \n",
      " 9   Time_Orderd                  45593 non-null  object \n",
      " 10  Time_Order_picked            45593 non-null  object \n",
      " 11  Weatherconditions            45593 non-null  object \n",
      " 12  Road_traffic_density         45593 non-null  object \n",
      " 13  Vehicle_condition            45593 non-null  int64  \n",
      " 14  Type_of_order                45593 non-null  object \n",
      " 15  Type_of_vehicle              45593 non-null  object \n",
      " 16  multiple_deliveries          45593 non-null  object \n",
      " 17  Festival                     45593 non-null  object \n",
      " 18  City                         45593 non-null  object \n",
      " 19  Time_taken(min)              45593 non-null  object \n",
      "dtypes: float64(4), int64(1), object(15)\n",
      "memory usage: 7.0+ MB\n"
     ]
    }
   ],
   "source": [
    "data.info()"
   ]
  },
  {
   "cell_type": "code",
   "execution_count": 4,
   "id": "daec6cd3-ba7c-40ad-bc6d-b6ddcb024855",
   "metadata": {},
   "outputs": [
    {
     "data": {
      "text/plain": [
       "(45593, 20)"
      ]
     },
     "execution_count": 4,
     "metadata": {},
     "output_type": "execute_result"
    }
   ],
   "source": [
    "data.shape"
   ]
  },
  {
   "cell_type": "markdown",
   "id": "fe9a1be7-d4a4-426f-afcb-dc42f53af9a9",
   "metadata": {},
   "source": [
    "Uber collection systems already introduced a NaN value as a string in case of not available information, so later when working with missing values I need to implement an algorithm to capture this NaN string values and change them into np.nan. Besides that, the dataset has the information I need to train a model and provide a solution.\n",
    "\n",
    "## Understanding data dictionary\n",
    "\n",
    "|Column|Description |\n",
    "| :------------ |:---------------:|\n",
    "|**ID**|order ID number| \n",
    "|**Delivery_person_ID**|ID number of the delivery partner|\n",
    "|**Delivery_person_Age**|Age of the delivery partner|\n",
    "|**Delivery_person_Ratings**|Ratings of the delivery partner based on past deliveries|\n",
    "|**Restaurant_latitude**|The latitude of the restaurant|\n",
    "|**Restaurant_longitude**|The longitude of the restaurant|\n",
    "|**Delivery_location_latitude**|The latitude of the delivery location|\n",
    "|**Delivery_location_longitude**|The longitude of the delivery location|\n",
    "|**Order_Date**|Date of the order|\n",
    "|**Time_Orderd**|Time the order was placed|\n",
    "|**Time_Order_picked**|Time the order was picked|\n",
    "|**Weatherconditions**|Weather conditions of the day|\n",
    "|**Road_traffic_density**|Density of the traffic|\n",
    "|**Vehicle_condition**|Condition of the vehicle|\n",
    "|**Type_of_order**|The type of meal ordered by the customer|\n",
    "|**Type_of_vehicle**|The type of vehicle delivery partner rides|\n",
    "|**multiple_deliveries**|Amount of deliveries driver picked|\n",
    "|**Festival**|If there was a Festival or no.|\n",
    "|**City**|Type of city|\n",
    "|**Time_taken(min)**| The time taken by the delivery partner to complete the order|"
   ]
  },
  {
   "cell_type": "markdown",
   "id": "27108cf6-91c2-4b10-b3fe-58965d787b36",
   "metadata": {},
   "source": [
    "## Understanding data structure\n",
    "Understanding the data structure is an essential aspect of data science projects as it plays a crucial role, because data have been organized, stored and manipulated for eficiency. Using the data they way it was thought to be use helps to reduce complexity, improve data quality, and enable faster and more accurate analysis."
   ]
  },
  {
   "cell_type": "code",
   "execution_count": 5,
   "id": "746b7b3b-cf56-425f-b9b1-afc556ec0fa8",
   "metadata": {},
   "outputs": [
    {
     "data": {
      "text/html": [
       "<div>\n",
       "<style scoped>\n",
       "    .dataframe tbody tr th:only-of-type {\n",
       "        vertical-align: middle;\n",
       "    }\n",
       "\n",
       "    .dataframe tbody tr th {\n",
       "        vertical-align: top;\n",
       "    }\n",
       "\n",
       "    .dataframe thead th {\n",
       "        text-align: right;\n",
       "    }\n",
       "</style>\n",
       "<table border=\"1\" class=\"dataframe\">\n",
       "  <thead>\n",
       "    <tr style=\"text-align: right;\">\n",
       "      <th></th>\n",
       "      <th>ID</th>\n",
       "      <th>Delivery_person_ID</th>\n",
       "      <th>Delivery_person_Age</th>\n",
       "      <th>Delivery_person_Ratings</th>\n",
       "      <th>Restaurant_latitude</th>\n",
       "      <th>Restaurant_longitude</th>\n",
       "      <th>Delivery_location_latitude</th>\n",
       "      <th>Delivery_location_longitude</th>\n",
       "      <th>Order_Date</th>\n",
       "      <th>Time_Orderd</th>\n",
       "      <th>Time_Order_picked</th>\n",
       "      <th>Weatherconditions</th>\n",
       "      <th>Road_traffic_density</th>\n",
       "      <th>Vehicle_condition</th>\n",
       "      <th>Type_of_order</th>\n",
       "      <th>Type_of_vehicle</th>\n",
       "      <th>multiple_deliveries</th>\n",
       "      <th>Festival</th>\n",
       "      <th>City</th>\n",
       "      <th>Time_taken(min)</th>\n",
       "    </tr>\n",
       "  </thead>\n",
       "  <tbody>\n",
       "    <tr>\n",
       "      <th>0</th>\n",
       "      <td>0x4607</td>\n",
       "      <td>INDORES13DEL02</td>\n",
       "      <td>37</td>\n",
       "      <td>4.9</td>\n",
       "      <td>22.745049</td>\n",
       "      <td>75.892471</td>\n",
       "      <td>22.765049</td>\n",
       "      <td>75.912471</td>\n",
       "      <td>19-03-2022</td>\n",
       "      <td>11:30:00</td>\n",
       "      <td>11:45:00</td>\n",
       "      <td>conditions Sunny</td>\n",
       "      <td>High</td>\n",
       "      <td>2</td>\n",
       "      <td>Snack</td>\n",
       "      <td>motorcycle</td>\n",
       "      <td>0</td>\n",
       "      <td>No</td>\n",
       "      <td>Urban</td>\n",
       "      <td>(min) 24</td>\n",
       "    </tr>\n",
       "    <tr>\n",
       "      <th>1</th>\n",
       "      <td>0xb379</td>\n",
       "      <td>BANGRES18DEL02</td>\n",
       "      <td>34</td>\n",
       "      <td>4.5</td>\n",
       "      <td>12.913041</td>\n",
       "      <td>77.683237</td>\n",
       "      <td>13.043041</td>\n",
       "      <td>77.813237</td>\n",
       "      <td>25-03-2022</td>\n",
       "      <td>19:45:00</td>\n",
       "      <td>19:50:00</td>\n",
       "      <td>conditions Stormy</td>\n",
       "      <td>Jam</td>\n",
       "      <td>2</td>\n",
       "      <td>Snack</td>\n",
       "      <td>scooter</td>\n",
       "      <td>1</td>\n",
       "      <td>No</td>\n",
       "      <td>Metropolitian</td>\n",
       "      <td>(min) 33</td>\n",
       "    </tr>\n",
       "    <tr>\n",
       "      <th>2</th>\n",
       "      <td>0x5d6d</td>\n",
       "      <td>BANGRES19DEL01</td>\n",
       "      <td>23</td>\n",
       "      <td>4.4</td>\n",
       "      <td>12.914264</td>\n",
       "      <td>77.678400</td>\n",
       "      <td>12.924264</td>\n",
       "      <td>77.688400</td>\n",
       "      <td>19-03-2022</td>\n",
       "      <td>08:30:00</td>\n",
       "      <td>08:45:00</td>\n",
       "      <td>conditions Sandstorms</td>\n",
       "      <td>Low</td>\n",
       "      <td>0</td>\n",
       "      <td>Drinks</td>\n",
       "      <td>motorcycle</td>\n",
       "      <td>1</td>\n",
       "      <td>No</td>\n",
       "      <td>Urban</td>\n",
       "      <td>(min) 26</td>\n",
       "    </tr>\n",
       "    <tr>\n",
       "      <th>3</th>\n",
       "      <td>0x7a6a</td>\n",
       "      <td>COIMBRES13DEL02</td>\n",
       "      <td>38</td>\n",
       "      <td>4.7</td>\n",
       "      <td>11.003669</td>\n",
       "      <td>76.976494</td>\n",
       "      <td>11.053669</td>\n",
       "      <td>77.026494</td>\n",
       "      <td>05-04-2022</td>\n",
       "      <td>18:00:00</td>\n",
       "      <td>18:10:00</td>\n",
       "      <td>conditions Sunny</td>\n",
       "      <td>Medium</td>\n",
       "      <td>0</td>\n",
       "      <td>Buffet</td>\n",
       "      <td>motorcycle</td>\n",
       "      <td>1</td>\n",
       "      <td>No</td>\n",
       "      <td>Metropolitian</td>\n",
       "      <td>(min) 21</td>\n",
       "    </tr>\n",
       "    <tr>\n",
       "      <th>4</th>\n",
       "      <td>0x70a2</td>\n",
       "      <td>CHENRES12DEL01</td>\n",
       "      <td>32</td>\n",
       "      <td>4.6</td>\n",
       "      <td>12.972793</td>\n",
       "      <td>80.249982</td>\n",
       "      <td>13.012793</td>\n",
       "      <td>80.289982</td>\n",
       "      <td>26-03-2022</td>\n",
       "      <td>13:30:00</td>\n",
       "      <td>13:45:00</td>\n",
       "      <td>conditions Cloudy</td>\n",
       "      <td>High</td>\n",
       "      <td>1</td>\n",
       "      <td>Snack</td>\n",
       "      <td>scooter</td>\n",
       "      <td>1</td>\n",
       "      <td>No</td>\n",
       "      <td>Metropolitian</td>\n",
       "      <td>(min) 30</td>\n",
       "    </tr>\n",
       "  </tbody>\n",
       "</table>\n",
       "</div>"
      ],
      "text/plain": [
       "        ID Delivery_person_ID Delivery_person_Age Delivery_person_Ratings  \\\n",
       "0  0x4607     INDORES13DEL02                   37                     4.9   \n",
       "1  0xb379     BANGRES18DEL02                   34                     4.5   \n",
       "2  0x5d6d     BANGRES19DEL01                   23                     4.4   \n",
       "3  0x7a6a    COIMBRES13DEL02                   38                     4.7   \n",
       "4  0x70a2     CHENRES12DEL01                   32                     4.6   \n",
       "\n",
       "   Restaurant_latitude  Restaurant_longitude  Delivery_location_latitude  \\\n",
       "0            22.745049             75.892471                   22.765049   \n",
       "1            12.913041             77.683237                   13.043041   \n",
       "2            12.914264             77.678400                   12.924264   \n",
       "3            11.003669             76.976494                   11.053669   \n",
       "4            12.972793             80.249982                   13.012793   \n",
       "\n",
       "   Delivery_location_longitude  Order_Date Time_Orderd Time_Order_picked  \\\n",
       "0                    75.912471  19-03-2022    11:30:00          11:45:00   \n",
       "1                    77.813237  25-03-2022    19:45:00          19:50:00   \n",
       "2                    77.688400  19-03-2022    08:30:00          08:45:00   \n",
       "3                    77.026494  05-04-2022    18:00:00          18:10:00   \n",
       "4                    80.289982  26-03-2022    13:30:00          13:45:00   \n",
       "\n",
       "       Weatherconditions Road_traffic_density  Vehicle_condition  \\\n",
       "0       conditions Sunny                High                   2   \n",
       "1      conditions Stormy                 Jam                   2   \n",
       "2  conditions Sandstorms                 Low                   0   \n",
       "3       conditions Sunny              Medium                   0   \n",
       "4      conditions Cloudy                High                   1   \n",
       "\n",
       "  Type_of_order Type_of_vehicle multiple_deliveries Festival            City  \\\n",
       "0        Snack      motorcycle                    0      No           Urban    \n",
       "1        Snack         scooter                    1      No   Metropolitian    \n",
       "2       Drinks      motorcycle                    1      No           Urban    \n",
       "3       Buffet      motorcycle                    1      No   Metropolitian    \n",
       "4        Snack         scooter                    1      No   Metropolitian    \n",
       "\n",
       "  Time_taken(min)  \n",
       "0        (min) 24  \n",
       "1        (min) 33  \n",
       "2        (min) 26  \n",
       "3        (min) 21  \n",
       "4        (min) 30  "
      ]
     },
     "execution_count": 5,
     "metadata": {},
     "output_type": "execute_result"
    }
   ],
   "source": [
    "data.head()"
   ]
  },
  {
   "cell_type": "markdown",
   "id": "33e4932f-c30e-4729-a988-32a19f5b14f4",
   "metadata": {},
   "source": [
    "From the data structure I can see that there is some variables can be group together such as Order_Date and Time_Orderd, then engineered using time format. The target (Time_taken(min)) also need to be transform in a descrete variable.\n",
    "\n",
    "## Data Cleanse \n",
    "Data cleansing, also known as data cleaning or data scrubbing, is the process of identifying and correcting or removing errors, inconsistencies, and inaccuracies in a dataset. The goal of data cleansing is to improve the quality of data so that it can be used effectively in data analysis, decision-making, and other applications.\n",
    "\n",
    "Fortunately the data is already very clean, but there are some columns that need a touch, so for this section my focus will be:\n",
    "\n",
    "- Map all the missing values.\n",
    "- Transform target (Time_taken(min)) into an int.\n",
    "- Combine time features, and transform it into pd.to_datetime then engineer new features out of it.\n",
    "- Change Dtypes\n",
    "- Remove \"condition\" from Weatherconditions\n",
    "- Remove spaces from str features\n",
    "\n",
    "### Mapping all the missing values"
   ]
  },
  {
   "cell_type": "code",
   "execution_count": 6,
   "id": "9ff6fa15-dfa2-44e8-b798-22715b3615cf",
   "metadata": {},
   "outputs": [],
   "source": [
    "for column in data.columns:\n",
    "    data[column] = data[column].apply(lambda value: np.nan if value == 'NaN ' else value)"
   ]
  },
  {
   "cell_type": "markdown",
   "id": "6e3b100d-8fad-44c5-83f6-6c08783e6f67",
   "metadata": {},
   "source": [
    "### Transform target"
   ]
  },
  {
   "cell_type": "code",
   "execution_count": 7,
   "id": "96c4e9c0-5768-4b62-8ed8-81c590680728",
   "metadata": {},
   "outputs": [],
   "source": [
    "data['Time_taken(min)'] = data['Time_taken(min)'].apply(lambda value: float(value[-2:]))"
   ]
  },
  {
   "cell_type": "markdown",
   "id": "f0d9c816-e5fe-4115-878d-7c990d0bea1e",
   "metadata": {},
   "source": [
    "### Order_Date, Time_Orderd & Time_Order_picked\n",
    "\n",
    "#### Combine time variables"
   ]
  },
  {
   "cell_type": "code",
   "execution_count": 8,
   "id": "da29983c-5840-40bc-be6d-c2f1a58dcdaf",
   "metadata": {},
   "outputs": [],
   "source": [
    "data['Time_Orderd'] = data['Order_Date'] + ' ' + data['Time_Orderd']\n",
    "data['Time_Order_picked'] = data['Order_Date'] + ' ' + data['Time_Order_picked']"
   ]
  },
  {
   "cell_type": "markdown",
   "id": "dcfff107-e0a3-4e0b-b15e-01d95ff3519c",
   "metadata": {},
   "source": [
    "#### Convert to pd.to_datetime"
   ]
  },
  {
   "cell_type": "code",
   "execution_count": 9,
   "id": "4e83361b-0032-4934-8849-1b219547428d",
   "metadata": {},
   "outputs": [],
   "source": [
    "data['Time_Orderd'] = pd.to_datetime(data['Time_Orderd'], format = '%d-%m-%Y %H:%M:%S')\n",
    "data['Time_Order_picked'] = pd.to_datetime(data['Time_Order_picked'], format = '%d-%m-%Y %H:%M:%S')"
   ]
  },
  {
   "cell_type": "markdown",
   "id": "454df1cd-fe5c-4c5a-b1d1-73613af8bd05",
   "metadata": {},
   "source": [
    "#### Feature Engineering new variables out of Time_Orderd & Time_Order_picked\n"
   ]
  },
  {
   "cell_type": "code",
   "execution_count": 10,
   "id": "ac2323f2-718b-42dc-afd7-1f6463e729bc",
   "metadata": {},
   "outputs": [],
   "source": [
    "data['Time_To_Pick'] = (data['Time_Order_picked'] - data['Time_Orderd']).astype('timedelta64[m]')"
   ]
  },
  {
   "cell_type": "code",
   "execution_count": 11,
   "id": "2c9191dc-619c-4716-84d1-6cce1ac7a119",
   "metadata": {},
   "outputs": [],
   "source": [
    "monhts = {1:'January', 2:'February', 3:'March', 4:'April', 5:'May',\n",
    "          6:'June', 7:'July', 8:'August', 9:'September', 10:'October',\n",
    "          11:'November', 12:'December'}\n",
    "\n",
    "days = {0:'Monday', 1:'Tuesday', 2:'Wednesday', 3:'Thursday', 4:'Friday',\n",
    "        5:'Saturday', 6:'Sunday'}"
   ]
  },
  {
   "cell_type": "code",
   "execution_count": 12,
   "id": "66f383c4-73f8-4cca-a27f-98b859d82291",
   "metadata": {},
   "outputs": [],
   "source": [
    "data['Order_Year'] = data['Time_Orderd'].apply(lambda value: value.year)\n",
    "data['Order_Month'] = data['Time_Orderd'].apply(lambda value: value.month).map(monhts)\n",
    "data['Order_Day'] = data['Time_Orderd'].apply(lambda value: value.dayofweek).map(days)"
   ]
  },
  {
   "cell_type": "markdown",
   "id": "df4094f3-99a6-4362-9ad1-ebda507106fa",
   "metadata": {},
   "source": [
    "### Change Dtypes"
   ]
  },
  {
   "cell_type": "code",
   "execution_count": 13,
   "id": "03676eff-b096-4d1e-8a70-3da513953440",
   "metadata": {},
   "outputs": [],
   "source": [
    "data['Delivery_person_Age'] = data['Delivery_person_Age'].astype(float)\n",
    "data['Delivery_person_Ratings'] = data['Delivery_person_Ratings'].astype(float)\n",
    "data['multiple_deliveries'] = data['multiple_deliveries'].astype(float)\n",
    "data['Vehicle_condition'] = data['Vehicle_condition'].astype(float)"
   ]
  },
  {
   "cell_type": "markdown",
   "id": "12a547b3-7774-47bf-98cb-f58c0a629212",
   "metadata": {},
   "source": [
    "### Remove \"condition\" from Weatherconditions"
   ]
  },
  {
   "cell_type": "code",
   "execution_count": 14,
   "id": "87519897-d237-4c46-b3c5-77188e478e35",
   "metadata": {},
   "outputs": [],
   "source": [
    "data['Weatherconditions'] = data['Weatherconditions'].apply(lambda value: value.split(' ')[-1]) "
   ]
  },
  {
   "cell_type": "markdown",
   "id": "5247e8dd-4ee0-4da5-8e4f-94e9ed1cdbee",
   "metadata": {
    "tags": []
   },
   "source": [
    "### Remove extra spaces"
   ]
  },
  {
   "cell_type": "code",
   "execution_count": 15,
   "id": "f29c827e-ddc5-4063-8288-236082056efa",
   "metadata": {},
   "outputs": [],
   "source": [
    "for feature in data.select_dtypes(include = 'O').columns:\n",
    "    data[feature] = data[feature].apply(lambda value: np.nan if pd.isnull(value) else value.replace(' ', ''))"
   ]
  },
  {
   "cell_type": "markdown",
   "id": "6d02fe16-cf77-4511-92a7-90e7bcfbc66e",
   "metadata": {},
   "source": [
    "## Completing the data\n",
    "Imputing missing values in data is crucial because they can create complications for statistical analyses and machine learning models. The presence of missing values can result in inaccurate or biased outcomes by altering statistical properties, such as the mean or variance, of the data. Consequently, conclusions drawn from such data may not be reliable. Moreover, some statistical tests require complete data to be valid.\n",
    "\n",
    "In the case of machine learning, incomplete data can pose problems for models that demand complete data sets, such as decision trees and neural networks. It can also lead to overfitting, whereby a model over-relies on available data and cannot perform well on unseen data.\n",
    "\n",
    "Imputing missing values can address these issues by replacing the missing data with estimates derived from existing data. This preserves the statistical characteristics of the data and can enhance the performance of machine learning models. Nevertheless, it is crucial to use suitable imputation techniques and carefully assess the potential influence of the imputed data on the analyses or models employed.\n",
    "\n",
    "### Missing Values"
   ]
  },
  {
   "cell_type": "code",
   "execution_count": 16,
   "id": "650d6a89-12e8-4347-9ccf-d520c788b445",
   "metadata": {},
   "outputs": [],
   "source": [
    "MissingValues = pd.DataFrame(data.isna().sum().sort_values(ascending = False)[:11])\n",
    "\n",
    "MissingValues.rename(columns = {0 : 'Missing'}, inplace = True, errors = 'raise')\n",
    "\n",
    "MissingValues['Missing %'] = round(MissingValues['Missing'] / data.shape[0] * 100, 2)"
   ]
  },
  {
   "cell_type": "code",
   "execution_count": 17,
   "id": "789e453c-3c24-4afc-8c79-57dc24a5cdc9",
   "metadata": {},
   "outputs": [
    {
     "data": {
      "text/html": [
       "<div>\n",
       "<style scoped>\n",
       "    .dataframe tbody tr th:only-of-type {\n",
       "        vertical-align: middle;\n",
       "    }\n",
       "\n",
       "    .dataframe tbody tr th {\n",
       "        vertical-align: top;\n",
       "    }\n",
       "\n",
       "    .dataframe thead th {\n",
       "        text-align: right;\n",
       "    }\n",
       "</style>\n",
       "<table border=\"1\" class=\"dataframe\">\n",
       "  <thead>\n",
       "    <tr style=\"text-align: right;\">\n",
       "      <th></th>\n",
       "      <th>Missing</th>\n",
       "      <th>Missing %</th>\n",
       "    </tr>\n",
       "  </thead>\n",
       "  <tbody>\n",
       "    <tr>\n",
       "      <th>Delivery_person_Ratings</th>\n",
       "      <td>1908</td>\n",
       "      <td>4.18</td>\n",
       "    </tr>\n",
       "    <tr>\n",
       "      <th>Delivery_person_Age</th>\n",
       "      <td>1854</td>\n",
       "      <td>4.07</td>\n",
       "    </tr>\n",
       "    <tr>\n",
       "      <th>Order_Day</th>\n",
       "      <td>1731</td>\n",
       "      <td>3.80</td>\n",
       "    </tr>\n",
       "    <tr>\n",
       "      <th>Time_Orderd</th>\n",
       "      <td>1731</td>\n",
       "      <td>3.80</td>\n",
       "    </tr>\n",
       "    <tr>\n",
       "      <th>Order_Month</th>\n",
       "      <td>1731</td>\n",
       "      <td>3.80</td>\n",
       "    </tr>\n",
       "    <tr>\n",
       "      <th>Order_Year</th>\n",
       "      <td>1731</td>\n",
       "      <td>3.80</td>\n",
       "    </tr>\n",
       "    <tr>\n",
       "      <th>Time_To_Pick</th>\n",
       "      <td>1731</td>\n",
       "      <td>3.80</td>\n",
       "    </tr>\n",
       "    <tr>\n",
       "      <th>City</th>\n",
       "      <td>1200</td>\n",
       "      <td>2.63</td>\n",
       "    </tr>\n",
       "    <tr>\n",
       "      <th>multiple_deliveries</th>\n",
       "      <td>993</td>\n",
       "      <td>2.18</td>\n",
       "    </tr>\n",
       "    <tr>\n",
       "      <th>Road_traffic_density</th>\n",
       "      <td>601</td>\n",
       "      <td>1.32</td>\n",
       "    </tr>\n",
       "    <tr>\n",
       "      <th>Festival</th>\n",
       "      <td>228</td>\n",
       "      <td>0.50</td>\n",
       "    </tr>\n",
       "  </tbody>\n",
       "</table>\n",
       "</div>"
      ],
      "text/plain": [
       "                         Missing  Missing %\n",
       "Delivery_person_Ratings     1908       4.18\n",
       "Delivery_person_Age         1854       4.07\n",
       "Order_Day                   1731       3.80\n",
       "Time_Orderd                 1731       3.80\n",
       "Order_Month                 1731       3.80\n",
       "Order_Year                  1731       3.80\n",
       "Time_To_Pick                1731       3.80\n",
       "City                        1200       2.63\n",
       "multiple_deliveries          993       2.18\n",
       "Road_traffic_density         601       1.32\n",
       "Festival                     228       0.50"
      ]
     },
     "execution_count": 17,
     "metadata": {},
     "output_type": "execute_result"
    }
   ],
   "source": [
    "MissingValues"
   ]
  },
  {
   "cell_type": "markdown",
   "id": "acac7b47-caf7-447d-8ef3-4633626a61fa",
   "metadata": {},
   "source": [
    "Order_day and Time_Orderd had 1731 missing values and due to that the time engineered features (Order_Month, Order_Year, Time_To_Pick) also have the same amount of missing values. There is also missing values due to the Delivery person personal info, City, multiple_deliveries, Road_traffic_density and Festival.\n",
    "\n",
    "Is necessary to ask, are these really missing values? Or there is something else hidding behind them?\n",
    "\n",
    "In statistics there is three main types of missing data:\n",
    "\n",
    "**Missing Completely At Random (MCAR):** In this case, the missing data points are randomly distributed across all observations and variables, and there is no systematic reason for the missingness. This means that the probability of a value being missing is the same for all observations, regardless of any other variables. MCAR is considered to be the least problematic type of missing data because it does not introduce any bias into the analysis.\n",
    "\n",
    "**Missing At Random (MAR):** This type of missing data occurs when the probability of a value being missing is related to some observed variables, but not to the missing value itself. In other words, the missingness is dependent on some other variable in the dataset. For example, if the probability of missing a survey question is higher for people of a certain age group, but the missingness is not related to the answer to that question, then the missing data is MAR.\n",
    "\n",
    "**Missing Not At Random (MNAR):** This type of missing data occurs when the probability of a value being missing is related to the missing value itself, or to some other unobserved variable. This means that the missingness is not random and cannot be explained by any of the observed variables in the dataset. MNAR is considered to be the most problematic type of missing data because it can introduce bias into the analysis. An example of MNAR is when participants with high levels of depression are less likely to complete a survey on mental health, leading to missing data that is systematically related to the variable being measured.\n",
    "\n",
    "Many imputation methods can introduce bias if the missing data is not missing completely at random (MCAR) or missing at random (MAR), meaning that the missingness is not related to the value of the missing data. In such cases, the imputation method can produce biased estimates of the missing data values.\n",
    "\n",
    "So in order to implement any imputation method, I need to be sure that the missing data is MCAR or MAR. There are a few ways to check if your missing data is not missing completely at random (MCAR) or missing at random (MAR):\n",
    "\n",
    "**Visual inspection:** You can plot the missing values to see if there is a pattern to their occurrence. For example, if missing values tend to occur more often in certain rows or columns, or in certain values of other variables, this may indicate that the missingness is not random.\n",
    "\n",
    "**Statistical tests:** You can perform statistical tests to check for patterns in the missing data. One common test is the Little's MCAR test, which tests whether the missingness is independent of the observed data. If the p-value of the test is less than 0.05, it indicates that the data is not MCAR.\n",
    "\n",
    "Let's check if our missing data its MCAR or MAR and fill the values in case data is MNAR\n",
    "\n",
    "#### Visual inspection"
   ]
  },
  {
   "cell_type": "code",
   "execution_count": 18,
   "id": "cc63d32f-e7b5-4211-94cc-a60f2284dc0c",
   "metadata": {},
   "outputs": [
    {
     "data": {
      "image/png": "[encoded data removed]",
      "text/plain": [
       "<Figure size 1000x600 with 1 Axes>"
      ]
     },
     "metadata": {},
     "output_type": "display_data"
    }
   ],
   "source": [
    "plt.figure(figsize = (10, 6))\n",
    "\n",
    "sns.heatmap(data.isna(), cmap = 'Blues_r', cbar = False);"
   ]
  },
  {
   "cell_type": "markdown",
   "id": "c99ebcb9-882b-458d-83ff-75e2172de7db",
   "metadata": {},
   "source": [
    "Some rows have multiple missing values, lets check how many values and if they have something to do with the delivery time"
   ]
  },
  {
   "cell_type": "code",
   "execution_count": 19,
   "id": "6de3fb97-8f69-4b0f-8507-0c8d4b715c8d",
   "metadata": {},
   "outputs": [],
   "source": [
    "data['TotalNaN'] = data.isna().sum(axis = 1)"
   ]
  },
  {
   "cell_type": "code",
   "execution_count": 20,
   "id": "8bc3bcc6-7de0-40b9-ab96-f5c56953bc50",
   "metadata": {},
   "outputs": [
    {
     "data": {
      "image/png": "[encoded data removed]",
      "text/plain": [
       "<Figure size 640x480 with 1 Axes>"
      ]
     },
     "metadata": {},
     "output_type": "display_data"
    }
   ],
   "source": [
    "sns.countplot(data = data[data.TotalNaN != 0], x = 'TotalNaN', palette = 'viridis', edgecolor = 'k')\n",
    "\n",
    "plt.title('Total NaN (Per row)')\n",
    "plt.grid(False);"
   ]
  },
  {
   "cell_type": "code",
   "execution_count": 21,
   "id": "b712cc78-c163-481e-abce-b32ec7035e1e",
   "metadata": {},
   "outputs": [
    {
     "data": {
      "text/plain": [
       "Order_Day                  1731\n",
       "Order_Month                1731\n",
       "Order_Year                 1731\n",
       "Time_To_Pick               1731\n",
       "Time_Orderd                1731\n",
       "Delivery_person_Age        1640\n",
       "Delivery_person_Ratings    1640\n",
       "Road_traffic_density        601\n",
       "City                         56\n",
       "multiple_deliveries          50\n",
       "Festival                      9\n",
       "Type_of_order                 0\n",
       "dtype: int64"
      ]
     },
     "execution_count": 21,
     "metadata": {},
     "output_type": "execute_result"
    }
   ],
   "source": [
    "# Rows with more than 5 NaN values\n",
    "\n",
    "data[data['TotalNaN'] > 5].isna().sum().sort_values(ascending = False)[:12]"
   ]
  },
  {
   "cell_type": "markdown",
   "id": "6b1ce544-46cf-43bf-9f0f-1ae1ee5e2fac",
   "metadata": {},
   "source": [
    "Those rows with more than 5 missing values are not worth imputing since 6 or more (up to 10) missing values are out of 16 predicting features is way too much, so I am gonna remove those rows with more than 5 missing values and impute those with less than that."
   ]
  },
  {
   "cell_type": "code",
   "execution_count": 22,
   "id": "410a631e-23a3-433b-b254-cbbaaf8c0a22",
   "metadata": {},
   "outputs": [
    {
     "data": {
      "text/plain": [
       "1731"
      ]
     },
     "execution_count": 22,
     "metadata": {},
     "output_type": "execute_result"
    }
   ],
   "source": [
    "# Number of Observations dropped\n",
    "\n",
    "data.shape[0] - data[data['TotalNaN'] < 5].shape[0]"
   ]
  },
  {
   "cell_type": "code",
   "execution_count": 23,
   "id": "c8cbd1f3-071c-4b6b-bbd9-73a4db3bbb68",
   "metadata": {},
   "outputs": [],
   "source": [
    "data = data[data['TotalNaN'] < 5]"
   ]
  },
  {
   "cell_type": "markdown",
   "id": "6a0e5cf5-712b-40b8-b869-eee80f47bb8e",
   "metadata": {},
   "source": [
    "After dropping those variables, lets see how the missing values in the data looks like."
   ]
  },
  {
   "cell_type": "code",
   "execution_count": 24,
   "id": "da83751a-fbff-433f-bbd7-0e5ebefc43ce",
   "metadata": {},
   "outputs": [
    {
     "data": {
      "text/html": [
       "<div>\n",
       "<style scoped>\n",
       "    .dataframe tbody tr th:only-of-type {\n",
       "        vertical-align: middle;\n",
       "    }\n",
       "\n",
       "    .dataframe tbody tr th {\n",
       "        vertical-align: top;\n",
       "    }\n",
       "\n",
       "    .dataframe thead th {\n",
       "        text-align: right;\n",
       "    }\n",
       "</style>\n",
       "<table border=\"1\" class=\"dataframe\">\n",
       "  <thead>\n",
       "    <tr style=\"text-align: right;\">\n",
       "      <th></th>\n",
       "      <th>Missing</th>\n",
       "      <th>Missing %</th>\n",
       "    </tr>\n",
       "  </thead>\n",
       "  <tbody>\n",
       "    <tr>\n",
       "      <th>City</th>\n",
       "      <td>1144</td>\n",
       "      <td>2.61</td>\n",
       "    </tr>\n",
       "    <tr>\n",
       "      <th>multiple_deliveries</th>\n",
       "      <td>943</td>\n",
       "      <td>2.15</td>\n",
       "    </tr>\n",
       "    <tr>\n",
       "      <th>Delivery_person_Ratings</th>\n",
       "      <td>268</td>\n",
       "      <td>0.61</td>\n",
       "    </tr>\n",
       "    <tr>\n",
       "      <th>Festival</th>\n",
       "      <td>219</td>\n",
       "      <td>0.50</td>\n",
       "    </tr>\n",
       "    <tr>\n",
       "      <th>Delivery_person_Age</th>\n",
       "      <td>214</td>\n",
       "      <td>0.49</td>\n",
       "    </tr>\n",
       "  </tbody>\n",
       "</table>\n",
       "</div>"
      ],
      "text/plain": [
       "                         Missing  Missing %\n",
       "City                        1144       2.61\n",
       "multiple_deliveries          943       2.15\n",
       "Delivery_person_Ratings      268       0.61\n",
       "Festival                     219       0.50\n",
       "Delivery_person_Age          214       0.49"
      ]
     },
     "execution_count": 24,
     "metadata": {},
     "output_type": "execute_result"
    }
   ],
   "source": [
    "MissingValues = pd.DataFrame(data.isna().sum().sort_values(ascending = False)[:5])\n",
    "\n",
    "MissingValues.rename(columns = {0 : 'Missing'}, inplace = True, errors = 'raise')\n",
    "\n",
    "MissingValues['Missing %'] = round(MissingValues['Missing'] / data.shape[0] * 100, 2)\n",
    "\n",
    "MissingValues"
   ]
  },
  {
   "cell_type": "markdown",
   "id": "d34a426a-4275-42e3-8e43-45da5669f3a7",
   "metadata": {},
   "source": [
    "Now we have less than 5% of missing values, lets see if I can fill those values using the Mode from the data if value count is unbalanced or any other method. First of all I am gonna create a function to help me map the current Missing Values of each feature.\n"
   ]
  },
  {
   "cell_type": "markdown",
   "id": "adae1bf0-a0c1-493d-a427-f8540b277680",
   "metadata": {},
   "source": [
    "### City\n",
    "\n",
    "City is the feature with the most missing values, with around 2.61% of the dataset."
   ]
  },
  {
   "cell_type": "code",
   "execution_count": 25,
   "id": "67d5580c-04ea-480d-ae32-e6dc6f1fe6ee",
   "metadata": {},
   "outputs": [
    {
     "data": {
      "image/png": "[encoded data removed]",
      "text/plain": [
       "<Figure size 500x300 with 1 Axes>"
      ]
     },
     "metadata": {},
     "output_type": "display_data"
    }
   ],
   "source": [
    "data.City.value_counts().plot(kind = 'barh', title = 'City value counts',color = 'orange', figsize = (5, 3));"
   ]
  },
  {
   "cell_type": "markdown",
   "id": "d38ba79c-24b6-43d9-8eff-05372847c3cb",
   "metadata": {},
   "source": [
    "City is so unbalanced that the better option is to impute using Mode, in this case \"Metropolitian\"."
   ]
  },
  {
   "cell_type": "code",
   "execution_count": 26,
   "id": "7fd58027-d1ae-4859-8a3c-cff39831269b",
   "metadata": {},
   "outputs": [],
   "source": [
    "data.loc[data['City'].isna(), 'City'] = 'Metropolitian'"
   ]
  },
  {
   "cell_type": "markdown",
   "id": "ab7005d0-2664-4497-9cca-94bd37d003bc",
   "metadata": {},
   "source": [
    "### multiple_deliveries"
   ]
  },
  {
   "cell_type": "code",
   "execution_count": 27,
   "id": "506dd4a1-d5d6-4a6d-acc2-47c92219f333",
   "metadata": {},
   "outputs": [
    {
     "data": {
      "image/png": "[encoded data removed]",
      "text/plain": [
       "<Figure size 500x300 with 1 Axes>"
      ]
     },
     "metadata": {},
     "output_type": "display_data"
    }
   ],
   "source": [
    "data.multiple_deliveries.value_counts().plot(kind = 'barh', title = 'City value counts', color = 'purple', figsize = (5, 3));"
   ]
  },
  {
   "cell_type": "markdown",
   "id": "3fbe4508-cf29-4506-8f14-3335f2563134",
   "metadata": {},
   "source": [
    "most of the delivery guys had only one delivery, so I can use that to fill the missing values."
   ]
  },
  {
   "cell_type": "code",
   "execution_count": 28,
   "id": "f6233200-0cc9-4652-b3fb-7f50f0913c62",
   "metadata": {},
   "outputs": [],
   "source": [
    "data.loc[data['multiple_deliveries'].isna(), 'multiple_deliveries'] = 1.0"
   ]
  },
  {
   "cell_type": "markdown",
   "id": "ea5f2fe2-b03a-4c0c-bca1-ee1fb4eb6636",
   "metadata": {},
   "source": [
    "### Delivery_person_Ratings"
   ]
  },
  {
   "cell_type": "code",
   "execution_count": 29,
   "id": "f9fc8441-ab2a-4ad3-b035-882f1fbf3d49",
   "metadata": {},
   "outputs": [
    {
     "data": {
      "image/png": "[encoded data removed]",
      "text/plain": [
       "<Figure size 500x300 with 1 Axes>"
      ]
     },
     "metadata": {},
     "output_type": "display_data"
    }
   ],
   "source": [
    "plt.figure(figsize = (5, 3))\n",
    "\n",
    "sns.countplot(data = data, x = 'Delivery_person_Ratings', edgecolor = 'k')\n",
    "plt.xticks(rotation = 90);"
   ]
  },
  {
   "cell_type": "code",
   "execution_count": 30,
   "id": "00673fa2-3fff-4d94-b15f-b177bbbc233d",
   "metadata": {},
   "outputs": [
    {
     "data": {
      "text/plain": [
       "(4.6, 4.7)"
      ]
     },
     "execution_count": 30,
     "metadata": {},
     "output_type": "execute_result"
    }
   ],
   "source": [
    "# Mean, Median\n",
    "round(data['Delivery_person_Ratings'].mean(), 1), data['Delivery_person_Ratings'].median()"
   ]
  },
  {
   "cell_type": "markdown",
   "id": "524a8839-5d00-4f98-bce9-208be7034616",
   "metadata": {},
   "source": [
    "Vast majority of the delivery person have 4.5 or higher Rating. I am gonna impute with the median."
   ]
  },
  {
   "cell_type": "code",
   "execution_count": 31,
   "id": "47d5adfd-358e-440f-8884-54b31a477a27",
   "metadata": {},
   "outputs": [],
   "source": [
    "data.loc[data['Delivery_person_Ratings'].isna(), 'Delivery_person_Ratings'] = 4.7"
   ]
  },
  {
   "cell_type": "markdown",
   "id": "70f811b1-05fa-4168-81cf-065e3b6da5c2",
   "metadata": {},
   "source": [
    "### Festival"
   ]
  },
  {
   "cell_type": "code",
   "execution_count": 32,
   "id": "492db694-679e-41f0-bb5d-4e565c83e373",
   "metadata": {},
   "outputs": [
    {
     "data": {
      "image/png": "[encoded data removed]",
      "text/plain": [
       "<Figure size 500x300 with 1 Axes>"
      ]
     },
     "metadata": {},
     "output_type": "display_data"
    }
   ],
   "source": [
    "data.Festival.value_counts().plot(kind = 'barh', title = 'City value counts', color = 'green', figsize = (5, 3));"
   ]
  },
  {
   "cell_type": "markdown",
   "id": "88440862-cb9f-43d3-969a-342597aa961f",
   "metadata": {},
   "source": [
    "Festival is so unbalanced that imputing with \"No\" is the best option."
   ]
  },
  {
   "cell_type": "code",
   "execution_count": 33,
   "id": "fa7d8916-39a7-4b9d-b490-738c12a3dbdd",
   "metadata": {},
   "outputs": [],
   "source": [
    "data.loc[data['Festival'].isna(), 'Festival'] = 'No'"
   ]
  },
  {
   "cell_type": "markdown",
   "id": "56b5afeb-fbf1-4eba-9511-fbb62bbd310f",
   "metadata": {},
   "source": [
    "### Delivery_person_Age"
   ]
  },
  {
   "cell_type": "code",
   "execution_count": 34,
   "id": "30287848-f1f5-4821-81e9-9df7aa6f2076",
   "metadata": {},
   "outputs": [
    {
     "data": {
      "image/png": "[encoded data removed]",
      "text/plain": [
       "<Figure size 500x300 with 1 Axes>"
      ]
     },
     "metadata": {},
     "output_type": "display_data"
    }
   ],
   "source": [
    "plt.figure(figsize = (5, 3))\n",
    "\n",
    "sns.countplot(data = data, x = 'Delivery_person_Age', edgecolor = 'k')\n",
    "plt.xticks(rotation = 90);"
   ]
  },
  {
   "cell_type": "code",
   "execution_count": 35,
   "id": "693114d9-3691-4c70-84dd-f096685bdfdc",
   "metadata": {},
   "outputs": [
    {
     "data": {
      "text/plain": [
       "(29.6, 30.0)"
      ]
     },
     "execution_count": 35,
     "metadata": {},
     "output_type": "execute_result"
    }
   ],
   "source": [
    "# Mean, Median\n",
    "round(data['Delivery_person_Age'].mean(), 1), data['Delivery_person_Age'].median()"
   ]
  },
  {
   "cell_type": "markdown",
   "id": "5d16802f-d7a4-4f47-9ca3-9e715b54f1be",
   "metadata": {},
   "source": [
    "Values are well balanced, so lets impute using KNNimputer."
   ]
  },
  {
   "cell_type": "code",
   "execution_count": 36,
   "id": "e1dbaaab-e5c5-4cc8-b6fa-331a93d3fb1c",
   "metadata": {},
   "outputs": [],
   "source": [
    "from feature_engine.wrappers import SklearnTransformerWrapper\n",
    "from sklearn.impute import KNNImputer\n",
    "\n",
    "# start the KNNimputer inside the SKlearnTransformerWrapper\n",
    "\n",
    "imputer = SklearnTransformerWrapper(\n",
    "    transformer = KNNImputer(weights = 'distance'),\n",
    "    variables = 'Delivery_person_Age',\n",
    ")\n",
    "\n",
    "# fit the wrapper + KNNImputer\n",
    "\n",
    "imputer.fit(data)\n",
    "\n",
    "# transform the data\n",
    "imputed_Delivery_person_Age = round(imputer.transform(data))"
   ]
  },
  {
   "cell_type": "code",
   "execution_count": 37,
   "id": "6639e396-e45f-416f-ae8b-6f1a4c540f2f",
   "metadata": {},
   "outputs": [
    {
     "data": {
      "image/png": "[encoded data removed]",
      "text/plain": [
       "<Figure size 1000x300 with 2 Axes>"
      ]
     },
     "metadata": {},
     "output_type": "display_data"
    }
   ],
   "source": [
    "fig, (ax1, ax2) = plt.subplots(ncols = 2, nrows = 1, sharey = True, figsize = (10, 3))\n",
    "\n",
    "sns.countplot(data = data, x = 'Delivery_person_Age', ax = ax1)\n",
    "ax1.set_title('With Missing values')\n",
    "sns.countplot(data = imputed_Delivery_person_Age, x = 'Delivery_person_Age', ax = ax2)\n",
    "ax2.set_title('Imputed values')\n",
    "\n",
    "for ax in [ax1, ax2]:\n",
    "    for tick in ax.get_xticklabels():\n",
    "        tick.set_rotation(90);"
   ]
  },
  {
   "cell_type": "code",
   "execution_count": 38,
   "id": "a6b0b4ba-aede-4d28-8896-dd5b0ad0bf06",
   "metadata": {},
   "outputs": [
    {
     "data": {
      "text/plain": [
       "((29.555008247800586, 29.557179335187634), 0.002)"
      ]
     },
     "execution_count": 38,
     "metadata": {},
     "output_type": "execute_result"
    }
   ],
   "source": [
    "# Mean, mean diff\n",
    "(data.Delivery_person_Age.mean(), imputed_Delivery_person_Age.Delivery_person_Age.mean()), round(imputed_Delivery_person_Age.Delivery_person_Age.mean() - data.Delivery_person_Age.mean(), 3)"
   ]
  },
  {
   "cell_type": "markdown",
   "id": "465c4a0d-735e-4ae8-a1eb-1acee74485bf",
   "metadata": {},
   "source": [
    "KNN learned and imputed 29.0, the difference between the mean is about 0.002. "
   ]
  },
  {
   "cell_type": "code",
   "execution_count": 39,
   "id": "706652f5-f759-4ce6-afe4-05b275b93bd8",
   "metadata": {},
   "outputs": [],
   "source": [
    "data['Delivery_person_Age'] = imputed_Delivery_person_Age['Delivery_person_Age']"
   ]
  },
  {
   "cell_type": "markdown",
   "id": "d6356278-4e65-4626-9733-871a855910d9",
   "metadata": {},
   "source": [
    "## Section Summary\n",
    "\n",
    "This part of the project focused in cleaning the data, creating new features and imputing the missing values. Overall we managed to:\n",
    "\n",
    "- Transform our target to  float\n",
    "- Combinate date and time, then create 4 new features out of that information.\n",
    "- Reset the Dtypes to analyse.\n",
    "- Fix some typing erros in feature by deleting the extra spaces and redundant names like \"condition\"\n",
    "- Delete those rows with more than 5 missing values due to little prediting value.\n",
    "- Impute the remaining missing values using different techniques.\n",
    "\n",
    "The output of this section is a more clean and interpretable dataset to analyse in the next notebook, also some pipelines to implement in the ML production section."
   ]
  },
  {
   "cell_type": "code",
   "execution_count": 40,
   "id": "c5055056-1f09-4c67-969e-75994f5facda",
   "metadata": {},
   "outputs": [],
   "source": [
    "data.to_csv('../data/cleaned_data.csv', index = False, encoding = 'utf-8')"
   ]
  }
 ],
 "metadata": {
  "kernelspec": {
   "display_name": "Python 3 (ipykernel)",
   "language": "python",
   "name": "python3"
  },
  "language_info": {
   "codemirror_mode": {
    "name": "ipython",
    "version": 3
   },
   "file_extension": ".py",
   "mimetype": "text/x-python",
   "name": "python",
   "nbconvert_exporter": "python",
   "pygments_lexer": "ipython3",
   "version": "3.10.9"
  }
 },
 "nbformat": 4,
 "nbformat_minor": 5
}
