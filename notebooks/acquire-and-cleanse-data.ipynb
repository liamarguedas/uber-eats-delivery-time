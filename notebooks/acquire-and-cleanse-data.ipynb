{
 "cells": [
  {
   "cell_type": "markdown",
   "id": "39c97774-c97c-4fc0-880f-e5ccfed6b4e3",
   "metadata": {},
   "source": [
    "# Acquire training and testing data\n",
    "\n",
    "Data has been gathered through the UberEats Database and it has about 45 thousand recent deliveries from different cities."
   ]
  },
  {
   "cell_type": "markdown",
   "id": "7a28cdfb-4227-455a-beac-4231f62a7c95",
   "metadata": {},
   "source": [
    "## Libraries"
   ]
  },
  {
   "cell_type": "code",
   "execution_count": 1,
   "id": "d65f58a8-addb-4152-b094-c214a8f9c4e6",
   "metadata": {},
   "outputs": [],
   "source": [
    "# Warnings\n",
    "import warnings\n",
    "warnings.filterwarnings('ignore')\n",
    "\n",
    "# Libraries\n",
    "import numpy as np\n",
    "import pandas as pd\n",
    "import matplotlib.pyplot as plt\n",
    "import seaborn as sns\n",
    "\n",
    "# Settings\n",
    "pd.set_option('display.max_columns', None)\n",
    "sns.set_style('whitegrid')\n",
    "%matplotlib inline"
   ]
  },
  {
   "cell_type": "markdown",
   "id": "c2c41518-97f8-40f6-8676-9d54366fe747",
   "metadata": {},
   "source": [
    "## Loading data"
   ]
  },
  {
   "cell_type": "code",
   "execution_count": 2,
   "id": "cab2ee7e-af5d-496a-8f92-31d0734c4fdd",
   "metadata": {},
   "outputs": [],
   "source": [
    "data = pd.read_csv(\"../data/uber-eats-deliveries.csv\")"
   ]
  },
  {
   "cell_type": "markdown",
   "id": "77a3ab57-8aab-4081-956b-db6a9835512e",
   "metadata": {},
   "source": [
    "---\n",
    "# Wrangle, prepare, cleanse the data\n",
    "\n",
    "## Understanding data information"
   ]
  },
  {
   "cell_type": "code",
   "execution_count": 3,
   "id": "0e239402-e616-4365-928c-4b5344dd8d69",
   "metadata": {},
   "outputs": [
    {
     "name": "stdout",
     "output_type": "stream",
     "text": [
      "<class 'pandas.core.frame.DataFrame'>\n",
      "RangeIndex: 45593 entries, 0 to 45592\n",
      "Data columns (total 20 columns):\n",
      " #   Column                       Non-Null Count  Dtype  \n",
      "---  ------                       --------------  -----  \n",
      " 0   ID                           45593 non-null  object \n",
      " 1   Delivery_person_ID           45593 non-null  object \n",
      " 2   Delivery_person_Age          45593 non-null  object \n",
      " 3   Delivery_person_Ratings      45593 non-null  object \n",
      " 4   Restaurant_latitude          45593 non-null  float64\n",
      " 5   Restaurant_longitude         45593 non-null  float64\n",
      " 6   Delivery_location_latitude   45593 non-null  float64\n",
      " 7   Delivery_location_longitude  45593 non-null  float64\n",
      " 8   Order_Date                   45593 non-null  object \n",
      " 9   Time_Orderd                  45593 non-null  object \n",
      " 10  Time_Order_picked            45593 non-null  object \n",
      " 11  Weatherconditions            45593 non-null  object \n",
      " 12  Road_traffic_density         45593 non-null  object \n",
      " 13  Vehicle_condition            45593 non-null  int64  \n",
      " 14  Type_of_order                45593 non-null  object \n",
      " 15  Type_of_vehicle              45593 non-null  object \n",
      " 16  multiple_deliveries          45593 non-null  object \n",
      " 17  Festival                     45593 non-null  object \n",
      " 18  City                         45593 non-null  object \n",
      " 19  Time_taken(min)              45593 non-null  object \n",
      "dtypes: float64(4), int64(1), object(15)\n",
      "memory usage: 7.0+ MB\n"
     ]
    }
   ],
   "source": [
    "data.info()"
   ]
  },
  {
   "cell_type": "code",
   "execution_count": 4,
   "id": "daec6cd3-ba7c-40ad-bc6d-b6ddcb024855",
   "metadata": {},
   "outputs": [
    {
     "data": {
      "text/plain": [
       "(45593, 20)"
      ]
     },
     "execution_count": 4,
     "metadata": {},
     "output_type": "execute_result"
    }
   ],
   "source": [
    "data.shape"
   ]
  },
  {
   "cell_type": "markdown",
   "id": "fe9a1be7-d4a4-426f-afcb-dc42f53af9a9",
   "metadata": {},
   "source": [
    "Uber collection systems already introduced a NaN value as a string in case of not available information, so later when working with missing values I need to implement an algorithm to capture this NaN string values and change them into np.nan. Besides that, the dataset has the information I need to train a model and provide a solution.\n",
    "\n",
    "## Understanding data dictionary\n",
    "\n",
    "|Column|Description |\n",
    "| :------------ |:---------------:|\n",
    "|**ID**|order ID number| \n",
    "|**Delivery_person_ID**|ID number of the delivery partner|\n",
    "|**Delivery_person_Age**|Age of the delivery partner|\n",
    "|**Delivery_person_Ratings**|Ratings of the delivery partner based on past deliveries|\n",
    "|**Restaurant_latitude**|The latitude of the restaurant|\n",
    "|**Restaurant_longitude**|The longitude of the restaurant|\n",
    "|**Delivery_location_latitude**|The latitude of the delivery location|\n",
    "|**Delivery_location_longitude**|The longitude of the delivery location|\n",
    "|**Order_Date**|Date of the order|\n",
    "|**Time_Orderd**|Time the order was placed|\n",
    "|**Time_Order_picked**|Time the order was picked|\n",
    "|**Weatherconditions**|Weather conditions of the day|\n",
    "|**Road_traffic_density**|Density of the traffic|\n",
    "|**Vehicle_condition**|Condition of the vehicle|\n",
    "|**Type_of_order**|The type of meal ordered by the customer|\n",
    "|**Type_of_vehicle**|The type of vehicle delivery partner rides|\n",
    "|**multiple_deliveries**|Amount of deliveries driver picked|\n",
    "|**Festival**|If there was a Festival or no.|\n",
    "|**City**|Type of city|\n",
    "|**Time_taken(min)**| The time taken by the delivery partner to complete the order|"
   ]
  },
  {
   "cell_type": "markdown",
   "id": "27108cf6-91c2-4b10-b3fe-58965d787b36",
   "metadata": {},
   "source": [
    "## Understanding data structure\n",
    "Understanding the data structure is an essential aspect of data science projects as it plays a crucial role, because data have been organized, stored and manipulated for eficiency. Using the data they way it was thought to be use helps to reduce complexity, improve data quality, and enable faster and more accurate analysis."
   ]
  },
  {
   "cell_type": "code",
   "execution_count": 5,
   "id": "746b7b3b-cf56-425f-b9b1-afc556ec0fa8",
   "metadata": {},
   "outputs": [
    {
     "data": {
      "text/html": [
       "<div>\n",
       "<style scoped>\n",
       "    .dataframe tbody tr th:only-of-type {\n",
       "        vertical-align: middle;\n",
       "    }\n",
       "\n",
       "    .dataframe tbody tr th {\n",
       "        vertical-align: top;\n",
       "    }\n",
       "\n",
       "    .dataframe thead th {\n",
       "        text-align: right;\n",
       "    }\n",
       "</style>\n",
       "<table border=\"1\" class=\"dataframe\">\n",
       "  <thead>\n",
       "    <tr style=\"text-align: right;\">\n",
       "      <th></th>\n",
       "      <th>ID</th>\n",
       "      <th>Delivery_person_ID</th>\n",
       "      <th>Delivery_person_Age</th>\n",
       "      <th>Delivery_person_Ratings</th>\n",
       "      <th>Restaurant_latitude</th>\n",
       "      <th>Restaurant_longitude</th>\n",
       "      <th>Delivery_location_latitude</th>\n",
       "      <th>Delivery_location_longitude</th>\n",
       "      <th>Order_Date</th>\n",
       "      <th>Time_Orderd</th>\n",
       "      <th>Time_Order_picked</th>\n",
       "      <th>Weatherconditions</th>\n",
       "      <th>Road_traffic_density</th>\n",
       "      <th>Vehicle_condition</th>\n",
       "      <th>Type_of_order</th>\n",
       "      <th>Type_of_vehicle</th>\n",
       "      <th>multiple_deliveries</th>\n",
       "      <th>Festival</th>\n",
       "      <th>City</th>\n",
       "      <th>Time_taken(min)</th>\n",
       "    </tr>\n",
       "  </thead>\n",
       "  <tbody>\n",
       "    <tr>\n",
       "      <th>0</th>\n",
       "      <td>0x4607</td>\n",
       "      <td>INDORES13DEL02</td>\n",
       "      <td>37</td>\n",
       "      <td>4.9</td>\n",
       "      <td>22.745049</td>\n",
       "      <td>75.892471</td>\n",
       "      <td>22.765049</td>\n",
       "      <td>75.912471</td>\n",
       "      <td>19-03-2022</td>\n",
       "      <td>11:30:00</td>\n",
       "      <td>11:45:00</td>\n",
       "      <td>conditions Sunny</td>\n",
       "      <td>High</td>\n",
       "      <td>2</td>\n",
       "      <td>Snack</td>\n",
       "      <td>motorcycle</td>\n",
       "      <td>0</td>\n",
       "      <td>No</td>\n",
       "      <td>Urban</td>\n",
       "      <td>(min) 24</td>\n",
       "    </tr>\n",
       "    <tr>\n",
       "      <th>1</th>\n",
       "      <td>0xb379</td>\n",
       "      <td>BANGRES18DEL02</td>\n",
       "      <td>34</td>\n",
       "      <td>4.5</td>\n",
       "      <td>12.913041</td>\n",
       "      <td>77.683237</td>\n",
       "      <td>13.043041</td>\n",
       "      <td>77.813237</td>\n",
       "      <td>25-03-2022</td>\n",
       "      <td>19:45:00</td>\n",
       "      <td>19:50:00</td>\n",
       "      <td>conditions Stormy</td>\n",
       "      <td>Jam</td>\n",
       "      <td>2</td>\n",
       "      <td>Snack</td>\n",
       "      <td>scooter</td>\n",
       "      <td>1</td>\n",
       "      <td>No</td>\n",
       "      <td>Metropolitian</td>\n",
       "      <td>(min) 33</td>\n",
       "    </tr>\n",
       "    <tr>\n",
       "      <th>2</th>\n",
       "      <td>0x5d6d</td>\n",
       "      <td>BANGRES19DEL01</td>\n",
       "      <td>23</td>\n",
       "      <td>4.4</td>\n",
       "      <td>12.914264</td>\n",
       "      <td>77.678400</td>\n",
       "      <td>12.924264</td>\n",
       "      <td>77.688400</td>\n",
       "      <td>19-03-2022</td>\n",
       "      <td>08:30:00</td>\n",
       "      <td>08:45:00</td>\n",
       "      <td>conditions Sandstorms</td>\n",
       "      <td>Low</td>\n",
       "      <td>0</td>\n",
       "      <td>Drinks</td>\n",
       "      <td>motorcycle</td>\n",
       "      <td>1</td>\n",
       "      <td>No</td>\n",
       "      <td>Urban</td>\n",
       "      <td>(min) 26</td>\n",
       "    </tr>\n",
       "    <tr>\n",
       "      <th>3</th>\n",
       "      <td>0x7a6a</td>\n",
       "      <td>COIMBRES13DEL02</td>\n",
       "      <td>38</td>\n",
       "      <td>4.7</td>\n",
       "      <td>11.003669</td>\n",
       "      <td>76.976494</td>\n",
       "      <td>11.053669</td>\n",
       "      <td>77.026494</td>\n",
       "      <td>05-04-2022</td>\n",
       "      <td>18:00:00</td>\n",
       "      <td>18:10:00</td>\n",
       "      <td>conditions Sunny</td>\n",
       "      <td>Medium</td>\n",
       "      <td>0</td>\n",
       "      <td>Buffet</td>\n",
       "      <td>motorcycle</td>\n",
       "      <td>1</td>\n",
       "      <td>No</td>\n",
       "      <td>Metropolitian</td>\n",
       "      <td>(min) 21</td>\n",
       "    </tr>\n",
       "    <tr>\n",
       "      <th>4</th>\n",
       "      <td>0x70a2</td>\n",
       "      <td>CHENRES12DEL01</td>\n",
       "      <td>32</td>\n",
       "      <td>4.6</td>\n",
       "      <td>12.972793</td>\n",
       "      <td>80.249982</td>\n",
       "      <td>13.012793</td>\n",
       "      <td>80.289982</td>\n",
       "      <td>26-03-2022</td>\n",
       "      <td>13:30:00</td>\n",
       "      <td>13:45:00</td>\n",
       "      <td>conditions Cloudy</td>\n",
       "      <td>High</td>\n",
       "      <td>1</td>\n",
       "      <td>Snack</td>\n",
       "      <td>scooter</td>\n",
       "      <td>1</td>\n",
       "      <td>No</td>\n",
       "      <td>Metropolitian</td>\n",
       "      <td>(min) 30</td>\n",
       "    </tr>\n",
       "  </tbody>\n",
       "</table>\n",
       "</div>"
      ],
      "text/plain": [
       "        ID Delivery_person_ID Delivery_person_Age Delivery_person_Ratings  \\\n",
       "0  0x4607     INDORES13DEL02                   37                     4.9   \n",
       "1  0xb379     BANGRES18DEL02                   34                     4.5   \n",
       "2  0x5d6d     BANGRES19DEL01                   23                     4.4   \n",
       "3  0x7a6a    COIMBRES13DEL02                   38                     4.7   \n",
       "4  0x70a2     CHENRES12DEL01                   32                     4.6   \n",
       "\n",
       "   Restaurant_latitude  Restaurant_longitude  Delivery_location_latitude  \\\n",
       "0            22.745049             75.892471                   22.765049   \n",
       "1            12.913041             77.683237                   13.043041   \n",
       "2            12.914264             77.678400                   12.924264   \n",
       "3            11.003669             76.976494                   11.053669   \n",
       "4            12.972793             80.249982                   13.012793   \n",
       "\n",
       "   Delivery_location_longitude  Order_Date Time_Orderd Time_Order_picked  \\\n",
       "0                    75.912471  19-03-2022    11:30:00          11:45:00   \n",
       "1                    77.813237  25-03-2022    19:45:00          19:50:00   \n",
       "2                    77.688400  19-03-2022    08:30:00          08:45:00   \n",
       "3                    77.026494  05-04-2022    18:00:00          18:10:00   \n",
       "4                    80.289982  26-03-2022    13:30:00          13:45:00   \n",
       "\n",
       "       Weatherconditions Road_traffic_density  Vehicle_condition  \\\n",
       "0       conditions Sunny                High                   2   \n",
       "1      conditions Stormy                 Jam                   2   \n",
       "2  conditions Sandstorms                 Low                   0   \n",
       "3       conditions Sunny              Medium                   0   \n",
       "4      conditions Cloudy                High                   1   \n",
       "\n",
       "  Type_of_order Type_of_vehicle multiple_deliveries Festival            City  \\\n",
       "0        Snack      motorcycle                    0      No           Urban    \n",
       "1        Snack         scooter                    1      No   Metropolitian    \n",
       "2       Drinks      motorcycle                    1      No           Urban    \n",
       "3       Buffet      motorcycle                    1      No   Metropolitian    \n",
       "4        Snack         scooter                    1      No   Metropolitian    \n",
       "\n",
       "  Time_taken(min)  \n",
       "0        (min) 24  \n",
       "1        (min) 33  \n",
       "2        (min) 26  \n",
       "3        (min) 21  \n",
       "4        (min) 30  "
      ]
     },
     "execution_count": 5,
     "metadata": {},
     "output_type": "execute_result"
    }
   ],
   "source": [
    "data.head()"
   ]
  },
  {
   "cell_type": "markdown",
   "id": "33e4932f-c30e-4729-a988-32a19f5b14f4",
   "metadata": {},
   "source": [
    "From the data structure I can see that there is some variables can be group together such as Order_Date and Time_Orderd, then engineered using time format. The target (Time_taken(min)) also need to be transform in a descrete variable.\n",
    "\n",
    "## Data Cleanse \n",
    "Data cleansing, also known as data cleaning or data scrubbing, is the process of identifying and correcting or removing errors, inconsistencies, and inaccuracies in a dataset. The goal of data cleansing is to improve the quality of data so that it can be used effectively in data analysis, decision-making, and other applications.\n",
    "\n",
    "Fortunately the data is already very clean, but there are some columns that need a touch, so for this section my focus will be:\n",
    "\n",
    "- Map all the missing values.\n",
    "- Transform target (Time_taken(min)) into an int.\n",
    "- Combine time features, and transform it into pd.to_datetime then engineer new features out of it.\n",
    "- Remove spaces from str features\n",
    "\n",
    "### Mapping all the missing values"
   ]
  },
  {
   "cell_type": "code",
   "execution_count": 6,
   "id": "9ff6fa15-dfa2-44e8-b798-22715b3615cf",
   "metadata": {},
   "outputs": [],
   "source": [
    "for column in data.columns:\n",
    "    data[column] = data[column].apply(lambda value: np.nan if value == 'NaN ' else value)"
   ]
  },
  {
   "cell_type": "markdown",
   "id": "6e3b100d-8fad-44c5-83f6-6c08783e6f67",
   "metadata": {},
   "source": [
    "### Transform target"
   ]
  },
  {
   "cell_type": "code",
   "execution_count": 33,
   "id": "96c4e9c0-5768-4b62-8ed8-81c590680728",
   "metadata": {},
   "outputs": [],
   "source": [
    "data['Time_taken(min)'] = data['Time_taken(min)'].apply(lambda value: int(value[-2:]))"
   ]
  },
  {
   "cell_type": "markdown",
   "id": "f0d9c816-e5fe-4115-878d-7c990d0bea1e",
   "metadata": {},
   "source": [
    "### Order_Date, Time_Orderd & Time_Order_picked"
   ]
  },
  {
   "cell_type": "code",
   "execution_count": null,
   "id": "da29983c-5840-40bc-be6d-c2f1a58dcdaf",
   "metadata": {},
   "outputs": [],
   "source": [
    "# Combine time variables\n",
    "\n",
    "data['Time_Orderd'] = data['Order_Date'] + ' ' + data['Time_Orderd']\n",
    "data['Time_Order_picked'] = data['Order_Date'] + ' ' + data['Time_Order_picked']"
   ]
  },
  {
   "cell_type": "code",
   "execution_count": 7,
   "id": "4e83361b-0032-4934-8849-1b219547428d",
   "metadata": {},
   "outputs": [],
   "source": [
    "# Convert to pd.to_datetime\n",
    "\n",
    "data['Time_Orderd'] = pd.to_datetime(data['Time_Orderd'], format = '%d-%m-%Y %H:%M:%S')\n",
    "data['Time_Order_picked'] = pd.to_datetime(data['Time_Order_picked'], format = '%d-%m-%Y %H:%M:%S')"
   ]
  },
  {
   "cell_type": "code",
   "execution_count": 25,
   "id": "ac2323f2-718b-42dc-afd7-1f6463e729bc",
   "metadata": {},
   "outputs": [],
   "source": [
    "# Feature Engineering new variables out of Time_Orderd & Time_Order_picked\n",
    "\n",
    "# Time_To_Pick: Total time it took the restaurant to make and the Delivery_person to pick the order\n",
    "\n",
    "data['Time_To_Pick'] = (data['Time_Order_picked'] - data['Time_Orderd']).astype('timedelta64[m]')\n"
   ]
  },
  {
   "cell_type": "code",
   "execution_count": null,
   "id": "86f25f84-3651-41b4-874c-92df81fdeb5d",
   "metadata": {},
   "outputs": [],
   "source": []
  }
 ],
 "metadata": {
  "kernelspec": {
   "display_name": "Python 3 (ipykernel)",
   "language": "python",
   "name": "python3"
  },
  "language_info": {
   "codemirror_mode": {
    "name": "ipython",
    "version": 3
   },
   "file_extension": ".py",
   "mimetype": "text/x-python",
   "name": "python",
   "nbconvert_exporter": "python",
   "pygments_lexer": "ipython3",
   "version": "3.10.9"
  }
 },
 "nbformat": 4,
 "nbformat_minor": 5
}
