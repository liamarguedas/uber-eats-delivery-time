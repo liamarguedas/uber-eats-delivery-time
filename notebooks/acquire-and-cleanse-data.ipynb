{
 "cells": [
  {
   "cell_type": "markdown",
   "id": "39c97774-c97c-4fc0-880f-e5ccfed6b4e3",
   "metadata": {},
   "source": [
    "# Acquire training and testing data\n",
    "\n",
    "Data has been gathered through the UberEats Database and it has about 45 thousand recent deliveries from different cities."
   ]
  },
  {
   "cell_type": "markdown",
   "id": "7a28cdfb-4227-455a-beac-4231f62a7c95",
   "metadata": {},
   "source": [
    "## Libraries"
   ]
  },
  {
   "cell_type": "code",
   "execution_count": 1,
   "id": "d65f58a8-addb-4152-b094-c214a8f9c4e6",
   "metadata": {},
   "outputs": [],
   "source": [
    "# Warnings\n",
    "import warnings\n",
    "warnings.filterwarnings('ignore')\n",
    "\n",
    "# Libraries\n",
    "import numpy as np\n",
    "import pandas as pd\n",
    "import matplotlib.pyplot as plt\n",
    "import seaborn as sns\n",
    "\n",
    "# Settings\n",
    "pd.set_option('display.max_columns', None)\n",
    "sns.set_style('whitegrid')\n",
    "%matplotlib inline"
   ]
  },
  {
   "cell_type": "markdown",
   "id": "c2c41518-97f8-40f6-8676-9d54366fe747",
   "metadata": {},
   "source": [
    "## Loading data"
   ]
  },
  {
   "cell_type": "code",
   "execution_count": 3,
   "id": "cab2ee7e-af5d-496a-8f92-31d0734c4fdd",
   "metadata": {},
   "outputs": [],
   "source": [
    "data = pd.read_csv(\"../data/uber-eats-deliveries.csv\")"
   ]
  },
  {
   "cell_type": "markdown",
   "id": "77a3ab57-8aab-4081-956b-db6a9835512e",
   "metadata": {},
   "source": [
    "---\n",
    "# Wrangle, prepare, cleanse the data\n",
    "\n",
    "## Understanding data information"
   ]
  },
  {
   "cell_type": "code",
   "execution_count": 4,
   "id": "0e239402-e616-4365-928c-4b5344dd8d69",
   "metadata": {},
   "outputs": [
    {
     "name": "stdout",
     "output_type": "stream",
     "text": [
      "<class 'pandas.core.frame.DataFrame'>\n",
      "RangeIndex: 45593 entries, 0 to 45592\n",
      "Data columns (total 20 columns):\n",
      " #   Column                       Non-Null Count  Dtype  \n",
      "---  ------                       --------------  -----  \n",
      " 0   ID                           45593 non-null  object \n",
      " 1   Delivery_person_ID           45593 non-null  object \n",
      " 2   Delivery_person_Age          45593 non-null  object \n",
      " 3   Delivery_person_Ratings      45593 non-null  object \n",
      " 4   Restaurant_latitude          45593 non-null  float64\n",
      " 5   Restaurant_longitude         45593 non-null  float64\n",
      " 6   Delivery_location_latitude   45593 non-null  float64\n",
      " 7   Delivery_location_longitude  45593 non-null  float64\n",
      " 8   Order_Date                   45593 non-null  object \n",
      " 9   Time_Orderd                  45593 non-null  object \n",
      " 10  Time_Order_picked            45593 non-null  object \n",
      " 11  Weatherconditions            45593 non-null  object \n",
      " 12  Road_traffic_density         45593 non-null  object \n",
      " 13  Vehicle_condition            45593 non-null  int64  \n",
      " 14  Type_of_order                45593 non-null  object \n",
      " 15  Type_of_vehicle              45593 non-null  object \n",
      " 16  multiple_deliveries          45593 non-null  object \n",
      " 17  Festival                     45593 non-null  object \n",
      " 18  City                         45593 non-null  object \n",
      " 19  Time_taken(min)              45593 non-null  object \n",
      "dtypes: float64(4), int64(1), object(15)\n",
      "memory usage: 7.0+ MB\n"
     ]
    }
   ],
   "source": [
    "data.info()"
   ]
  },
  {
   "cell_type": "code",
   "execution_count": 6,
   "id": "daec6cd3-ba7c-40ad-bc6d-b6ddcb024855",
   "metadata": {},
   "outputs": [
    {
     "data": {
      "text/plain": [
       "(45593, 20)"
      ]
     },
     "execution_count": 6,
     "metadata": {},
     "output_type": "execute_result"
    }
   ],
   "source": [
    "data.shape"
   ]
  },
  {
   "cell_type": "markdown",
   "id": "fe9a1be7-d4a4-426f-afcb-dc42f53af9a9",
   "metadata": {},
   "source": [
    "Uber collection systems already introduced a NaN value as a string in case of not available information, so later when working with missing values I might to implement an algorithm to capture this NaN string values and change them into np.nan. Besides that, the dataset has the information I need to train a model and provide a solution.\n",
    "\n",
    "## Understanding data dictionary\n",
    "\n",
    "|Column|Description |\n",
    "| :------------ |:---------------:|\n",
    "|**ID**|order ID number| \n",
    "|**Delivery_person_ID**|ID number of the delivery partner|\n",
    "|**Delivery_person_Age**|Age of the delivery partner|\n",
    "|**Delivery_person_Ratings**|Ratings of the delivery partner based on past deliveries|\n",
    "|**Restaurant_latitude**|The latitude of the restaurant|\n",
    "|**Restaurant_longitude**|The longitude of the restaurant|\n",
    "|**Delivery_location_latitude**|The latitude of the delivery location|\n",
    "|**Delivery_location_longitude**|The longitude of the delivery location|\n",
    "|**Order_Date**|Date of the order|\n",
    "|**Time_Orderd**|Time the order was placed|\n",
    "|**Time_Order_picked**|Time the order was picked|\n",
    "|**Weatherconditions**|Weather conditions of the day|\n",
    "|**Road_traffic_density**|Density of the traffic|\n",
    "|**Vehicle_condition**|Condition of the vehicle|\n",
    "|**Type_of_order**|The type of meal ordered by the customer|\n",
    "|**Type_of_vehicle**|The type of vehicle delivery partner rides|\n",
    "|**multiple_deliveries**|Amount of deliveries driver picked|\n",
    "|**Festival**|If there was a Festival or no.|\n",
    "|**City**|Type of city|\n",
    "|**Time_taken(min)**| The time taken by the delivery partner to complete the order|"
   ]
  },
  {
   "cell_type": "code",
   "execution_count": null,
   "id": "0bca3917-cb6b-42e1-8d88-3fc471eb5d46",
   "metadata": {},
   "outputs": [],
   "source": []
  }
 ],
 "metadata": {
  "kernelspec": {
   "display_name": "Python 3 (ipykernel)",
   "language": "python",
   "name": "python3"
  },
  "language_info": {
   "codemirror_mode": {
    "name": "ipython",
    "version": 3
   },
   "file_extension": ".py",
   "mimetype": "text/x-python",
   "name": "python",
   "nbconvert_exporter": "python",
   "pygments_lexer": "ipython3",
   "version": "3.10.9"
  }
 },
 "nbformat": 4,
 "nbformat_minor": 5
}
