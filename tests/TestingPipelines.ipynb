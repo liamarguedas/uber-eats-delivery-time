{
 "cells": [
  {
   "cell_type": "code",
   "execution_count": 1,
   "id": "14c5664c",
   "metadata": {},
   "outputs": [],
   "source": [
    "# Warnings\n",
    "import warnings\n",
    "warnings.filterwarnings('ignore')\n",
    "\n",
    "# Libraries\n",
    "import numpy as np\n",
    "import pandas as pd\n",
    "import matplotlib.pyplot as plt\n",
    "import seaborn as sns\n",
    "\n",
    "# Settings\n",
    "pd.set_option('display.max_columns', None)\n",
    "sns.set_style('whitegrid')\n",
    "%matplotlib inline"
   ]
  },
  {
   "cell_type": "code",
   "execution_count": 6,
   "id": "27f94eb3",
   "metadata": {
    "scrolled": true
   },
   "outputs": [
    {
     "ename": "ModuleNotFoundError",
     "evalue": "No module named 'UberEatsDeliveryTimePrediction'",
     "output_type": "error",
     "traceback": [
      "\u001b[0;31m---------------------------------------------------------------------------\u001b[0m",
      "\u001b[0;31mModuleNotFoundError\u001b[0m                       Traceback (most recent call last)",
      "Cell \u001b[0;32mIn[6], line 1\u001b[0m\n\u001b[0;32m----> 1\u001b[0m \u001b[38;5;28;01mimport\u001b[39;00m \u001b[38;5;21;01mUberEatsDeliveryTimePrediction\u001b[39;00m\n\u001b[1;32m      3\u001b[0m \u001b[38;5;28;01mfrom\u001b[39;00m \u001b[38;5;21;01msklearn\u001b[39;00m\u001b[38;5;21;01m.\u001b[39;00m\u001b[38;5;21;01mpipeline\u001b[39;00m \u001b[38;5;28;01mimport\u001b[39;00m Pipeline\n\u001b[1;32m      5\u001b[0m \u001b[38;5;28;01mfrom\u001b[39;00m \u001b[38;5;21;01mpipelines\u001b[39;00m\u001b[38;5;21;01m.\u001b[39;00m\u001b[38;5;21;01mTransformationsPipeline\u001b[39;00m \u001b[38;5;28;01mimport\u001b[39;00m (\n\u001b[1;32m      6\u001b[0m     MapMissingValues,\n\u001b[1;32m      7\u001b[0m     DateTime,\n\u001b[0;32m   (...)\u001b[0m\n\u001b[1;32m     11\u001b[0m     GetDistances,\n\u001b[1;32m     12\u001b[0m     FeatureEngineering)\n",
      "\u001b[0;31mModuleNotFoundError\u001b[0m: No module named 'UberEatsDeliveryTimePrediction'"
     ]
    }
   ],
   "source": [
    "import UberEatsDeliveryTimePrediction\n",
    "\n",
    "from sklearn.pipeline import Pipeline\n",
    "\n",
    "from pipelines.TransformationsPipeline import (\n",
    "    MapMissingValues,\n",
    "    DateTime,\n",
    "    SetDtypes,\n",
    "    TransformStr,\n",
    "    ImputeMissingValues,\n",
    "    GetDistances,\n",
    "    FeatureEngineering)"
   ]
  },
  {
   "cell_type": "code",
   "execution_count": 3,
   "id": "2438d78b",
   "metadata": {},
   "outputs": [
    {
     "data": {
      "text/plain": [
       "'/home/liano/Desktop/uber-eats-delivery-time/tests'"
      ]
     },
     "execution_count": 3,
     "metadata": {},
     "output_type": "execute_result"
    }
   ],
   "source": [
    "pwd"
   ]
  },
  {
   "cell_type": "code",
   "execution_count": null,
   "id": "ceca0ac7",
   "metadata": {},
   "outputs": [],
   "source": [
    "data = pd.read_csv('../data/uber-eats-deliveries.csv')"
   ]
  },
  {
   "cell_type": "code",
   "execution_count": null,
   "id": "78539331",
   "metadata": {},
   "outputs": [],
   "source": [
    "Pipeline = Pipeline([\n",
    "    ('MapMissingValues', MapMissingValues(data = data)),\n",
    "    ('DateTime', DateTime(data = data)),\n",
    "    ('Dtypes', SetDtypes(data = data)),\n",
    "    ('TransformStr', TransformStr(data = data)),\n",
    "    ('ImputeMissingValues', ImputeMissingValues(data = data)),\n",
    "    ('GetDistances', GetDistances(data = data)),\n",
    "    ('FeatureEngineering', FeatureEngineering(data = data))\n",
    "])"
   ]
  },
  {
   "cell_type": "code",
   "execution_count": null,
   "id": "6dde571a",
   "metadata": {},
   "outputs": [],
   "source": [
    "data_transformed = Pipeline.transform(X = data)"
   ]
  },
  {
   "cell_type": "code",
   "execution_count": null,
   "id": "2c44a902",
   "metadata": {},
   "outputs": [],
   "source": [
    "data_transformed"
   ]
  },
  {
   "cell_type": "code",
   "execution_count": null,
   "id": "c403df90",
   "metadata": {},
   "outputs": [],
   "source": []
  }
 ],
 "metadata": {
  "kernelspec": {
   "display_name": "Python 3 (ipykernel)",
   "language": "python",
   "name": "python3"
  },
  "language_info": {
   "codemirror_mode": {
    "name": "ipython",
    "version": 3
   },
   "file_extension": ".py",
   "mimetype": "text/x-python",
   "name": "python",
   "nbconvert_exporter": "python",
   "pygments_lexer": "ipython3",
   "version": "3.10.9"
  }
 },
 "nbformat": 4,
 "nbformat_minor": 5
}
